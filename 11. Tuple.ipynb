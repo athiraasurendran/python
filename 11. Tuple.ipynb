{
 "cells": [
  {
   "cell_type": "markdown",
   "id": "d9a3aaf2-1132-49fe-8a45-c5e2b962f8c5",
   "metadata": {},
   "source": [
    "# <span style=color:green;>Tuples</span>"
   ]
  },
  {
   "cell_type": "markdown",
   "id": "801f6b64-13af-4acd-b13b-2849875e6a01",
   "metadata": {},
   "source": [
    "#### What is a Tuple?\n",
    "\n",
    "* A tuple is a built-in data structure in Python used to store multiple items in a single variable.  \n",
    "\n",
    "* Tuples are similar to lists, but with one key difference: tuples are immutable, meaning once a tuple is created, its values cannot be changed, added, or removed.\n",
    "\n",
    "* Syntax: Tuples are created by placing values inside parentheses () separated by commas"
   ]
  },
  {
   "cell_type": "code",
   "execution_count": 3,
   "id": "27725281-51e1-4e17-8c82-ea60a7768fb5",
   "metadata": {},
   "outputs": [
    {
     "name": "stdout",
     "output_type": "stream",
     "text": [
      "(1, 2, 3)\n"
     ]
    }
   ],
   "source": [
    "# Example\n",
    "my_tuple = (1, 2, 3)\n",
    "print(my_tuple)"
   ]
  },
  {
   "cell_type": "markdown",
   "id": "9405be52-d8e3-4e27-82fd-f980b575f588",
   "metadata": {},
   "source": [
    "Empty tuple: You can create an empty tuple with just ()."
   ]
  },
  {
   "cell_type": "code",
   "execution_count": 2,
   "id": "a142587f-8b2d-44dd-b2b6-38d41e6c44a2",
   "metadata": {},
   "outputs": [
    {
     "data": {
      "text/plain": [
       "()"
      ]
     },
     "execution_count": 2,
     "metadata": {},
     "output_type": "execute_result"
    }
   ],
   "source": [
    "empty_tuple = ()\n",
    "empty_tuple"
   ]
  },
  {
   "cell_type": "markdown",
   "id": "0bc099cb-7729-425e-80df-b3b2e7aadeaf",
   "metadata": {},
   "source": [
    "**Tuple Characteristics**\n",
    "\n",
    "* Ordered: Tuples maintain the order of elements.\n",
    "* Immutable: You cannot modify, add, or remove elements from a tuple after it is created.\n",
    "* Allows duplicates: Tuples can have multiple instances of the same value."
   ]
  },
  {
   "cell_type": "code",
   "execution_count": 4,
   "id": "ba2d2a93-1f58-4915-9147-4bce20e1c165",
   "metadata": {},
   "outputs": [
    {
     "name": "stdout",
     "output_type": "stream",
     "text": [
      "(1, 2, 2, 3)\n"
     ]
    }
   ],
   "source": [
    "tuple_with_duplicates = (1, 2, 2, 3)\n",
    "print(tuple_with_duplicates)"
   ]
  },
  {
   "cell_type": "markdown",
   "id": "77e662ca-f42b-462c-9ebf-d19b23a3d006",
   "metadata": {},
   "source": [
    "You can access tuple elements using indexing (0-based), similar to lists."
   ]
  },
  {
   "cell_type": "code",
   "execution_count": 5,
   "id": "ab06907f-93e2-4d6f-b4fe-34920ded9591",
   "metadata": {},
   "outputs": [
    {
     "name": "stdout",
     "output_type": "stream",
     "text": [
      "apple\n",
      "cherry\n"
     ]
    }
   ],
   "source": [
    "my_tuple = ('apple', 'banana', 'cherry')\n",
    "print(my_tuple[0]) \n",
    "\n",
    "print(my_tuple[-1]) \n"
   ]
  },
  {
   "cell_type": "code",
   "execution_count": null,
   "id": "f1a8a437-ac4a-4afb-9b27-4d0a38296f12",
   "metadata": {},
   "outputs": [],
   "source": []
  },
  {
   "cell_type": "markdown",
   "id": "848157db-1a9a-4baf-abec-59d95c259dc1",
   "metadata": {},
   "source": [
    "**Immutability of Tuples**\n",
    "\n",
    "Tuples are immutable, meaning you cannot modify them directly after they are created. \n",
    "\n",
    "If you try to change a value, Python will raise a **TypeError**."
   ]
  },
  {
   "cell_type": "code",
   "execution_count": 14,
   "id": "03bb5825-7fd5-4928-95f6-c84bffeb37f3",
   "metadata": {},
   "outputs": [
    {
     "ename": "TypeError",
     "evalue": "'tuple' object does not support item assignment",
     "output_type": "error",
     "traceback": [
      "\u001b[1;31m---------------------------------------------------------------------------\u001b[0m",
      "\u001b[1;31mTypeError\u001b[0m                                 Traceback (most recent call last)",
      "Cell \u001b[1;32mIn[14], line 2\u001b[0m\n\u001b[0;32m      1\u001b[0m my_tuple \u001b[38;5;241m=\u001b[39m (\u001b[38;5;241m1\u001b[39m, \u001b[38;5;241m2\u001b[39m, \u001b[38;5;241m3\u001b[39m)\n\u001b[1;32m----> 2\u001b[0m \u001b[43mmy_tuple\u001b[49m\u001b[43m[\u001b[49m\u001b[38;5;241;43m0\u001b[39;49m\u001b[43m]\u001b[49m \u001b[38;5;241m=\u001b[39m \u001b[38;5;241m10\u001b[39m\n",
      "\u001b[1;31mTypeError\u001b[0m: 'tuple' object does not support item assignment"
     ]
    }
   ],
   "source": [
    "my_tuple = (1, 2, 3)\n",
    "my_tuple[0] = 10"
   ]
  },
  {
   "cell_type": "code",
   "execution_count": null,
   "id": "db8ed057-32bc-4208-831e-aa18e506afef",
   "metadata": {},
   "outputs": [],
   "source": []
  },
  {
   "cell_type": "code",
   "execution_count": null,
   "id": "9fd33f45-8325-4f9a-b3b9-d478a28e89bb",
   "metadata": {},
   "outputs": [],
   "source": []
  },
  {
   "cell_type": "markdown",
   "id": "bceb9a31-1206-4b69-8307-1f232d92d699",
   "metadata": {},
   "source": [
    "**Unpacking Tuples**\n",
    "  \n",
    "Tuple unpacking allows you to assign the values of a tuple to multiple variables in one line."
   ]
  },
  {
   "cell_type": "code",
   "execution_count": 6,
   "id": "d68ca6a7-1162-4796-800f-867f6f27d103",
   "metadata": {},
   "outputs": [
    {
     "name": "stdout",
     "output_type": "stream",
     "text": [
      "Alice\n",
      "25\n",
      "Engineer\n"
     ]
    }
   ],
   "source": [
    "my_tuple = ('Alice', 25, 'Engineer')\n",
    "\n",
    "name, age, profession = my_tuple\n",
    "\n",
    "print(name)\n",
    "print(age)\n",
    "print(profession)\n"
   ]
  },
  {
   "cell_type": "code",
   "execution_count": 7,
   "id": "c6015add-dd18-431c-81d3-e4d05103ac77",
   "metadata": {},
   "outputs": [],
   "source": [
    "a = list(range(0,10))"
   ]
  },
  {
   "cell_type": "code",
   "execution_count": 8,
   "id": "f7970b6e-0935-4b8a-8a6a-0dc3a90a112c",
   "metadata": {},
   "outputs": [
    {
     "data": {
      "text/plain": [
       "[0, 1, 2, 3, 4, 5, 6, 7, 8, 9]"
      ]
     },
     "execution_count": 8,
     "metadata": {},
     "output_type": "execute_result"
    }
   ],
   "source": [
    "a"
   ]
  },
  {
   "cell_type": "markdown",
   "id": "80a5ef1e-e9e2-46a0-9551-ce5c9d725fa0",
   "metadata": {},
   "source": [
    "Tuples have two built-in methods:\n",
    "\n",
    "* count(): Returns the number of times a specified value appears in the tuple.\n",
    "* index(): Returns the index of the first occurrence of a specified value."
   ]
  },
  {
   "cell_type": "code",
   "execution_count": 9,
   "id": "78fc446a-83db-4edb-87a9-9a479cfd2ff3",
   "metadata": {},
   "outputs": [
    {
     "name": "stdout",
     "output_type": "stream",
     "text": [
      "2\n",
      "3\n"
     ]
    }
   ],
   "source": [
    "my_tuple = (1, 2, 2, 3)\n",
    "\n",
    "print(my_tuple.count(2))\n",
    "print(my_tuple.index(3))"
   ]
  },
  {
   "cell_type": "markdown",
   "id": "ef9b7bb9-f4c6-41a6-a920-dcea564acfdc",
   "metadata": {},
   "source": [
    "**Tuple Operations**\n",
    "\n",
    "Concatenation: You can combine two tuples using the + operator.  \n",
    "Repetition: You can repeat the elements of a tuple using the * operator."
   ]
  },
  {
   "cell_type": "code",
   "execution_count": 13,
   "id": "265d12d7-93a5-44d0-875e-fd518a113496",
   "metadata": {},
   "outputs": [
    {
     "name": "stdout",
     "output_type": "stream",
     "text": [
      "Combined -- (1, 2, 3, 4, 5, 6)\n",
      "Repeated -- (1, 2, 3, 1, 2, 3)\n"
     ]
    }
   ],
   "source": [
    "tuple1 = (1, 2, 3)\n",
    "tuple2 = (4, 5, 6)\n",
    "\n",
    "combined_tuple = tuple1 + tuple2\n",
    "print(f\"Combined -- {combined_tuple}\")\n",
    "\n",
    "repeated_tuple = tuple1 * 2\n",
    "print(f\"Repeated -- {repeated_tuple}\")\n"
   ]
  },
  {
   "cell_type": "code",
   "execution_count": null,
   "id": "91f407fc-5cf5-4b1f-8b00-e75264ebac0e",
   "metadata": {},
   "outputs": [],
   "source": []
  },
  {
   "cell_type": "markdown",
   "id": "f2a08f8b-e7af-4eaf-b3a3-bd740c59a540",
   "metadata": {},
   "source": [
    "Since tuples are immutable, they are more secure and less prone to accidental changes, making them ideal for storing data that should not change.\n",
    "\n",
    "You should use tuples when:\n",
    "\n",
    "You have a fixed set of values that should not change.  \n",
    "You need to store heterogeneous data (data of different types) that logically belongs together.  \n",
    "You want to return multiple values from a function.  \n",
    "You need to use a sequence as a dictionary key (as tuples are hashable)."
   ]
  },
  {
   "cell_type": "markdown",
   "id": "225f6d1b-81f5-402b-a932-461dbea3f181",
   "metadata": {},
   "source": [
    "***"
   ]
  },
  {
   "cell_type": "code",
   "execution_count": null,
   "id": "4e5bdece-7406-46e9-825d-1a77caf0d945",
   "metadata": {},
   "outputs": [],
   "source": []
  }
 ],
 "metadata": {
  "kernelspec": {
   "display_name": "Python 3 (ipykernel)",
   "language": "python",
   "name": "python3"
  },
  "language_info": {
   "codemirror_mode": {
    "name": "ipython",
    "version": 3
   },
   "file_extension": ".py",
   "mimetype": "text/x-python",
   "name": "python",
   "nbconvert_exporter": "python",
   "pygments_lexer": "ipython3",
   "version": "3.12.5"
  }
 },
 "nbformat": 4,
 "nbformat_minor": 5
}
