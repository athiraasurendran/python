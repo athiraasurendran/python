{
 "cells": [
  {
   "cell_type": "markdown",
   "id": "e5a12db3-74d2-4e59-a312-68686fb70293",
   "metadata": {},
   "source": [
    "## <span style = color:brown;> For Loop in Python </span>"
   ]
  },
  {
   "cell_type": "markdown",
   "id": "6efd86c0-7148-49e8-9f9b-1dc6ff7d8ed0",
   "metadata": {},
   "source": [
    "A **for loop** in Python is used to iterate over a sequence (like a list, tuple, string, or range). This loop allows you to execute a block of code multiple times for each item in the sequence."
   ]
  },
  {
   "cell_type": "markdown",
   "id": "930ef7d9-1985-4863-b367-bb1ce85f375e",
   "metadata": {},
   "source": [
    "It is one of the most commonly used control flow statements because it provides an easy way to work with sequences of data.   \n",
    "\n",
    "In this guide, we will cover the following:\n",
    "\n",
    "**How a for loop works  \n",
    "Syntax of a for loop  \n",
    "Examples with different data types  \n",
    "Using the range() function  \n",
    "Nested for loops  \n",
    "Using else with for loop  \n",
    "Common mistakes to avoid** \n",
    "\n",
    "#### How a for Loop Works  \n",
    "The for loop allows you to \"iterate\" over items in a sequence one by one.  \n",
    "\n",
    "For each iteration, a variable takes the value of the next item in the sequence, and the code block inside the loop runs. Once the loop finishes going through all the items, it ends."
   ]
  },
  {
   "cell_type": "markdown",
   "id": "7686bbf6-f9b6-4ffa-b951-d582dc8a8bbe",
   "metadata": {},
   "source": [
    "#### Basic Syntax of a for Loop\n",
    "The basic structure of a for loop looks like this:"
   ]
  },
  {
   "cell_type": "code",
   "execution_count": null,
   "id": "43da0743-c627-4d5a-92a4-b00ef31ac1ea",
   "metadata": {},
   "outputs": [],
   "source": [
    "for variable in sequence:\n",
    "    # Code to execute"
   ]
  },
  {
   "cell_type": "markdown",
   "id": "8e7d6c3f-6b03-46e1-ae2f-17f4096ec2d8",
   "metadata": {},
   "source": [
    "variable: A temporary variable that holds each item in the sequence one at a time.  \n",
    "sequence: A collection of data, like a list, tuple, string, or range."
   ]
  },
  {
   "cell_type": "markdown",
   "id": "4846d66c-9a8a-4d85-9047-5077769f6715",
   "metadata": {},
   "source": [
    "**Iterating Over a List**"
   ]
  },
  {
   "cell_type": "code",
   "execution_count": 1,
   "id": "8f77c1fd-c440-4276-b029-79ff861ea9b1",
   "metadata": {},
   "outputs": [
    {
     "name": "stdout",
     "output_type": "stream",
     "text": [
      "1\n",
      "2\n",
      "3\n",
      "4\n",
      "5\n"
     ]
    }
   ],
   "source": [
    "numbers = [1, 2, 3, 4, 5]\n",
    "\n",
    "# Using a for loop to iterate through the list\n",
    "for num in numbers:\n",
    "    print(num)\n"
   ]
  },
  {
   "cell_type": "markdown",
   "id": "28b9fb28-83c3-4e07-9a90-ced645f4eac9",
   "metadata": {},
   "source": [
    "The list numbers contains 5 elements.  \n",
    "The for loop goes through each element one by one, and in each iteration, num takes the value of the current element.  \n",
    "The print(num) statement displays the value of num in each iteration."
   ]
  },
  {
   "cell_type": "markdown",
   "id": "f6af503d-f37f-42cd-a848-7889728ff7f0",
   "metadata": {},
   "source": [
    "**Iterating Over a String**\n",
    "\n",
    "You can also use for loops to iterate over each character in a string"
   ]
  },
  {
   "cell_type": "code",
   "execution_count": 2,
   "id": "44beeeba-4a63-45a6-8f6b-6615edd6ec77",
   "metadata": {},
   "outputs": [
    {
     "name": "stdout",
     "output_type": "stream",
     "text": [
      "P\n",
      "y\n",
      "t\n",
      "h\n",
      "o\n",
      "n\n"
     ]
    }
   ],
   "source": [
    "name = \"Python\"\n",
    "\n",
    "# Using a for loop to iterate through the string\n",
    "for char in name:\n",
    "    print(char)\n"
   ]
  },
  {
   "cell_type": "markdown",
   "id": "15093416-c582-4b85-ac9e-23ef6b40168d",
   "metadata": {},
   "source": [
    "The for loop treats the string as a sequence of characters.  \n",
    "It prints each character of the string one by one."
   ]
  },
  {
   "cell_type": "markdown",
   "id": "3f36a9fc-e543-485c-a140-3f1bd7f6fc39",
   "metadata": {},
   "source": [
    "The **range()** Function in for Loops\n",
    "In many cases, you will need to repeat a block of code a specific number of times. The range() function is useful in such situations because it generates a sequence of numbers."
   ]
  },
  {
   "cell_type": "markdown",
   "id": "d10df8a2-d27c-4aa5-b3dd-6aa746af723d",
   "metadata": {},
   "source": [
    " **Using range() in a for loop**"
   ]
  },
  {
   "cell_type": "code",
   "execution_count": 4,
   "id": "4f398632-5a6d-4758-841d-0c0d32be1bdd",
   "metadata": {},
   "outputs": [
    {
     "name": "stdout",
     "output_type": "stream",
     "text": [
      "0\n",
      "1\n",
      "2\n",
      "3\n",
      "4\n"
     ]
    }
   ],
   "source": [
    "# Using range() to print numbers from 0 to 4\n",
    "for i in range(5):\n",
    "    print(i)"
   ]
  },
  {
   "cell_type": "code",
   "execution_count": 5,
   "id": "dd49e38b-8cfd-46e7-99bb-52ecb4e9f46b",
   "metadata": {},
   "outputs": [
    {
     "name": "stdout",
     "output_type": "stream",
     "text": [
      "2\n",
      "4\n",
      "6\n",
      "8\n"
     ]
    }
   ],
   "source": [
    "# Using range() with a start and step\n",
    "for i in range(2, 10, 2):\n",
    "    print(i)"
   ]
  },
  {
   "cell_type": "markdown",
   "id": "ee0e17f6-8ffb-492d-9a8d-9bd91d53533e",
   "metadata": {},
   "source": [
    "**Nested for Loops**\n",
    "\n",
    "A nested for loop means having one for loop inside another.  \n",
    "\n",
    "This is useful when you want to iterate over multiple sequences simultaneously."
   ]
  },
  {
   "cell_type": "code",
   "execution_count": 6,
   "id": "661f85d4-10f6-4c21-9581-da1f9348a655",
   "metadata": {},
   "outputs": [
    {
     "name": "stdout",
     "output_type": "stream",
     "text": [
      "0 0\n",
      "0 1\n",
      "0 2\n",
      "1 0\n",
      "1 1\n",
      "1 2\n",
      "2 0\n",
      "2 1\n",
      "2 2\n"
     ]
    }
   ],
   "source": [
    "# Nested for loop to print a 3x3 grid of numbers\n",
    "for i in range(3):\n",
    "    for j in range(3):\n",
    "        print(i, j)"
   ]
  },
  {
   "cell_type": "markdown",
   "id": "02ed8b1c-900f-4768-a214-2ebb1d0d4664",
   "metadata": {},
   "source": [
    "Explanation:\n",
    "\n",
    "The outer loop runs 3 times (for i = 0, 1, 2).  \n",
    "For each value of i, the inner loop runs 3 times (j = 0, 1, 2), resulting in a 3x3 grid.\n"
   ]
  },
  {
   "cell_type": "markdown",
   "id": "b54f16e3-9be1-4ad4-b976-817d33fe0f2d",
   "metadata": {},
   "source": [
    "Using **else** with a for Loop\n",
    "\n",
    "You can use an else block with a for loop. The else block runs after the loop has completed all its iterations. However, if the loop is terminated with a break statement, the else block will not run."
   ]
  },
  {
   "cell_type": "code",
   "execution_count": 7,
   "id": "a03d8aee-b148-4032-b51c-cc6e5a92c460",
   "metadata": {},
   "outputs": [
    {
     "name": "stdout",
     "output_type": "stream",
     "text": [
      "0\n",
      "1\n",
      "2\n",
      "Loop is done!\n"
     ]
    }
   ],
   "source": [
    "for i in range(3):\n",
    "    print(i)\n",
    "else:\n",
    "    print(\"Loop is done!\")"
   ]
  },
  {
   "cell_type": "markdown",
   "id": "b2a31024-b8d4-484b-a387-60314d7e5e59",
   "metadata": {},
   "source": [
    "The else block runs after the loop completes all iterations."
   ]
  },
  {
   "cell_type": "code",
   "execution_count": 8,
   "id": "98647bd1-45a3-450a-8d0f-2a7a23374dfc",
   "metadata": {},
   "outputs": [
    {
     "name": "stdout",
     "output_type": "stream",
     "text": [
      "0\n"
     ]
    }
   ],
   "source": [
    "#for loop with break and else\n",
    "\n",
    "for i in range(3):\n",
    "    if i == 1:\n",
    "        break\n",
    "    print(i)\n",
    "else:\n",
    "    print(\"Loop is done!\")\n"
   ]
  },
  {
   "cell_type": "markdown",
   "id": "2e393c98-a9b6-46b3-a907-c86dc5917417",
   "metadata": {},
   "source": [
    "The break statement ends the loop prematurely when i == 1.  \n",
    "The else block does not run because the loop was broken."
   ]
  },
  {
   "cell_type": "code",
   "execution_count": null,
   "id": "985ff7bb-7faf-4305-93e3-9b77aa90e864",
   "metadata": {},
   "outputs": [],
   "source": []
  },
  {
   "cell_type": "markdown",
   "id": "d48bac27-c5cc-4789-98b8-d53ed2770f09",
   "metadata": {},
   "source": [
    "**Iterating Over a Dictionary**"
   ]
  },
  {
   "cell_type": "code",
   "execution_count": 11,
   "id": "36c2c0d5-b0a0-457a-92db-d70c1571c67c",
   "metadata": {},
   "outputs": [
    {
     "name": "stdout",
     "output_type": "stream",
     "text": [
      "name John\n",
      "age 30\n",
      "city New York\n"
     ]
    }
   ],
   "source": [
    "# Dictionary\n",
    "person = {\"name\": \"John\", \"age\": 30, \"city\": \"New York\"}\n",
    "\n",
    "# Iterate over the keys\n",
    "for key in person:\n",
    "    print(key, person[key])"
   ]
  },
  {
   "cell_type": "code",
   "execution_count": null,
   "id": "329727ee-b889-444b-a1df-a265b477b21d",
   "metadata": {},
   "outputs": [],
   "source": []
  },
  {
   "cell_type": "markdown",
   "id": "23b98890-abd7-473b-b54c-09b8995fc8c0",
   "metadata": {},
   "source": [
    "**Common Mistakes to Avoid**\n",
    "\n",
    "**Off-by-One Error**: When using range(), remember that the stop value is exclusive, so range(5) goes from 0 to 4, not 0 to 5.\n",
    "\n",
    "**Not Using : at the End of for Statement**: Forgetting the colon : at the end of the for statement will cause a syntax error:\n"
   ]
  },
  {
   "cell_type": "code",
   "execution_count": 9,
   "id": "5439e2e4-7f42-4f68-8327-77fe287820f8",
   "metadata": {},
   "outputs": [
    {
     "ename": "SyntaxError",
     "evalue": "expected ':' (2147019858.py, line 1)",
     "output_type": "error",
     "traceback": [
      "\u001b[1;36m  Cell \u001b[1;32mIn[9], line 1\u001b[1;36m\u001b[0m\n\u001b[1;33m    for i in range(5)  # Missing colon here\u001b[0m\n\u001b[1;37m                       ^\u001b[0m\n\u001b[1;31mSyntaxError\u001b[0m\u001b[1;31m:\u001b[0m expected ':'\n"
     ]
    }
   ],
   "source": [
    "for i in range(5)  # Missing colon here\n",
    "    print(i)"
   ]
  },
  {
   "cell_type": "markdown",
   "id": "c4269efa-a25b-49e5-ae20-950b56b9d4d6",
   "metadata": {},
   "source": [
    "**Indentation**: Python relies on proper indentation. Make sure the code inside the loop is indented correctly:\n"
   ]
  },
  {
   "cell_type": "code",
   "execution_count": 10,
   "id": "419b4b08-1cf4-42aa-9433-063c1806362d",
   "metadata": {},
   "outputs": [
    {
     "ename": "IndentationError",
     "evalue": "expected an indented block after 'for' statement on line 1 (3644807918.py, line 2)",
     "output_type": "error",
     "traceback": [
      "\u001b[1;36m  Cell \u001b[1;32mIn[10], line 2\u001b[1;36m\u001b[0m\n\u001b[1;33m    print(i)  # This will cause an IndentationError\u001b[0m\n\u001b[1;37m    ^\u001b[0m\n\u001b[1;31mIndentationError\u001b[0m\u001b[1;31m:\u001b[0m expected an indented block after 'for' statement on line 1\n"
     ]
    }
   ],
   "source": [
    "for i in range(5):\n",
    "print(i)  # This will cause an IndentationError"
   ]
  },
  {
   "cell_type": "code",
   "execution_count": null,
   "id": "ddb09721-0e84-4e38-94e8-dda39243d557",
   "metadata": {},
   "outputs": [],
   "source": []
  },
  {
   "cell_type": "markdown",
   "id": "11696a26-b74b-4d4e-bed9-8e3d5aab5c9e",
   "metadata": {},
   "source": [
    "**Summary**\n",
    "  \n",
    "A for loop is used to iterate over a sequence (like lists, tuples, strings, or ranges).   \n",
    "\n",
    "The range() function is often used in loops to generate a sequence of numbers.  \n",
    "\n",
    "else can be used with for loops to run a block of code after the loop completes all iterations.\n",
    "\n",
    "Nested for loops allow you to loop over multiple sequences simultaneously."
   ]
  },
  {
   "cell_type": "markdown",
   "id": "6aa5885e-f786-4ab6-8c6f-ab2d2e598904",
   "metadata": {},
   "source": [
    "***"
   ]
  },
  {
   "cell_type": "code",
   "execution_count": null,
   "id": "53f88699-cfae-40cc-970b-b368db324b0e",
   "metadata": {},
   "outputs": [],
   "source": []
  },
  {
   "cell_type": "code",
   "execution_count": null,
   "id": "d2b0ad69-9c5d-4877-9273-c63034e53b6f",
   "metadata": {},
   "outputs": [],
   "source": []
  }
 ],
 "metadata": {
  "kernelspec": {
   "display_name": "Python 3 (ipykernel)",
   "language": "python",
   "name": "python3"
  },
  "language_info": {
   "codemirror_mode": {
    "name": "ipython",
    "version": 3
   },
   "file_extension": ".py",
   "mimetype": "text/x-python",
   "name": "python",
   "nbconvert_exporter": "python",
   "pygments_lexer": "ipython3",
   "version": "3.12.5"
  }
 },
 "nbformat": 4,
 "nbformat_minor": 5
}
