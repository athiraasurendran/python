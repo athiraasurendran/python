{
 "cells": [
  {
   "cell_type": "markdown",
   "id": "de6f0ab6-7709-4522-a446-a5da3e9d925e",
   "metadata": {},
   "source": [
    "#### Conditional Statements in Python\n",
    "\n",
    "Conditional statements are an essential part of controlling the flow of a program in Python. \n",
    "They allow you to execute code only when certain conditions are met, based on logic such as comparisons or boolean expressions.  \n",
    "\n",
    "Python supports the following conditional statements:"
   ]
  },
  {
   "cell_type": "markdown",
   "id": "f21fe8c1-c8c6-44c8-a30d-8ef222eb51e8",
   "metadata": {},
   "source": [
    "1. if statement  \n",
    "2. if-else statement  \n",
    "3. if-elif-else statement  \n",
    "4. Nested if statements"
   ]
  },
  {
   "cell_type": "markdown",
   "id": "e709f532-53da-427e-81d3-1857740dd22b",
   "metadata": {},
   "source": [
    "**1. if Statement**\n",
    "\n",
    "The if statement allows you to run a block of code only when a condition is True.  \n",
    "If the condition is False, the block of code inside the if statement is skipped."
   ]
  },
  {
   "cell_type": "code",
   "execution_count": null,
   "id": "24763363-5379-4dd4-97ef-d4dfb55737b6",
   "metadata": {},
   "outputs": [],
   "source": [
    "if condition:\n",
    "    # code to execute if condition is True\n"
   ]
  },
  {
   "cell_type": "code",
   "execution_count": 10,
   "id": "4a44b6bd-9b72-417b-b620-1d03c6a8710d",
   "metadata": {},
   "outputs": [
    {
     "name": "stdout",
     "output_type": "stream",
     "text": [
      "You are eligible to vote!\n"
     ]
    }
   ],
   "source": [
    "age = 18\n",
    "\n",
    "if age >= 18:\n",
    "    print(\"You are eligible to vote!\")"
   ]
  },
  {
   "cell_type": "markdown",
   "id": "0088104a-ecbf-4e65-b7aa-553e431688bf",
   "metadata": {},
   "source": [
    "**2. if-else Statement**\n",
    "\n",
    "The if-else statement is used when you want to run one block of code if a condition is True and another block if the condition is False."
   ]
  },
  {
   "cell_type": "code",
   "execution_count": null,
   "id": "2ea777e2-234e-4168-a96e-9eb6d8e5cd59",
   "metadata": {},
   "outputs": [],
   "source": [
    "if condition:\n",
    "    # code to execute if condition is True\n",
    "else:\n",
    "    # code to execute if condition is False"
   ]
  },
  {
   "cell_type": "code",
   "execution_count": 3,
   "id": "3ed9ea26-bae4-4004-866f-df65fd08241f",
   "metadata": {},
   "outputs": [
    {
     "name": "stdout",
     "output_type": "stream",
     "text": [
      "You are not eligible to vote.\n"
     ]
    }
   ],
   "source": [
    "age = 16\n",
    "\n",
    "if age >= 18:\n",
    "    print(\"You are eligible to vote!\")\n",
    "else:\n",
    "    print(\"You are not eligible to vote.\")"
   ]
  },
  {
   "cell_type": "markdown",
   "id": "232aefdd-83a6-49fe-a9ee-f8b3800b79c2",
   "metadata": {},
   "source": [
    "**3. if-elif-else Statement**\n",
    "\n",
    "The if-elif-else statement is used when you have multiple conditions to check. \n",
    "\n",
    "The first condition that evaluates to True gets executed, and the rest are ignored.  \n",
    "\n",
    "If none of the conditions is True, the else block is executed."
   ]
  },
  {
   "cell_type": "code",
   "execution_count": null,
   "id": "7a8fc50a-6f00-4e43-a64f-c82b8656bd8c",
   "metadata": {},
   "outputs": [],
   "source": [
    "if condition1:\n",
    "    # code to execute if condition1 is True\n",
    "elif condition2:\n",
    "    # code to execute if condition1 is False and condition2 is True\n",
    "else:\n",
    "    # code to execute if both condition1 and condition2 are False"
   ]
  },
  {
   "cell_type": "code",
   "execution_count": 4,
   "id": "e8d4277c-f8bf-4fd1-95ee-2e1ee1ac7d23",
   "metadata": {},
   "outputs": [
    {
     "name": "stdout",
     "output_type": "stream",
     "text": [
      "Grade: B\n"
     ]
    }
   ],
   "source": [
    "marks = 85\n",
    "\n",
    "if marks >= 90:\n",
    "    print(\"Grade: A\")\n",
    "elif marks >= 80:\n",
    "    print(\"Grade: B\")\n",
    "elif marks >= 70:\n",
    "    print(\"Grade: C\")\n",
    "else:\n",
    "    print(\"Grade: F\")"
   ]
  },
  {
   "cell_type": "markdown",
   "id": "6d4920a7-0ca1-4e50-b0a3-ce1877e7cb42",
   "metadata": {},
   "source": [
    "**4. Nested if Statements**\n",
    "\n",
    "You can also place an if statement inside another if or else statement.  \n",
    "\n",
    "This is called nesting, and it allows for more complex condition checking."
   ]
  },
  {
   "cell_type": "code",
   "execution_count": null,
   "id": "4e40769c-ccab-4dc1-9816-d9cb28e2ab5a",
   "metadata": {},
   "outputs": [],
   "source": [
    "if condition1:\n",
    "    # code to execute if condition1 is True\n",
    "    if condition2:\n",
    "        # code to execute if condition1 and condition2 are both True\n",
    "    else:\n",
    "        # code to execute if condition1 is True and condition2 is False\n",
    "else:\n",
    "    # code to execute if condition1 is False"
   ]
  },
  {
   "cell_type": "code",
   "execution_count": 5,
   "id": "e9d256aa-c0df-44bf-889e-4cf2ecb6042a",
   "metadata": {},
   "outputs": [
    {
     "name": "stdout",
     "output_type": "stream",
     "text": [
      "You are eligible to vote in the US!\n"
     ]
    }
   ],
   "source": [
    "age = 20\n",
    "citizenship = \"US\"\n",
    "\n",
    "if age >= 18:\n",
    "    if citizenship == \"US\":\n",
    "        print(\"You are eligible to vote in the US!\")  # Both conditions are True\n",
    "    else:\n",
    "        print(\"You are not a US citizen.\")\n",
    "else:\n",
    "    print(\"You are not eligible to vote.\")\n"
   ]
  },
  {
   "cell_type": "code",
   "execution_count": null,
   "id": "2d90033e-9fd7-454a-8b69-807c2669d394",
   "metadata": {},
   "outputs": [],
   "source": []
  },
  {
   "cell_type": "markdown",
   "id": "c2b7d214-bb88-438d-aea9-be8b5e6832a9",
   "metadata": {},
   "source": [
    "**Practical Examples**  \n",
    "\n",
    "**Example 1: Checking If a Number is Positive, Negative, or Zero**"
   ]
  },
  {
   "cell_type": "code",
   "execution_count": 6,
   "id": "06dfb61a-c5a8-43a1-9097-dabac5e062ab",
   "metadata": {},
   "outputs": [
    {
     "name": "stdout",
     "output_type": "stream",
     "text": [
      "The number is zero.\n"
     ]
    }
   ],
   "source": [
    "number = 0\n",
    "\n",
    "if number > 0:\n",
    "    print(\"The number is positive.\")\n",
    "elif number < 0:\n",
    "    print(\"The number is negative.\")\n",
    "else:\n",
    "    print(\"The number is zero.\")  # This will print because number is 0\n"
   ]
  },
  {
   "cell_type": "markdown",
   "id": "30bee50f-9e31-4c6b-b595-2a39874ff16b",
   "metadata": {},
   "source": [
    "**Example 2: Check If a Person is Eligible for a Senior Citizen Discount**"
   ]
  },
  {
   "cell_type": "code",
   "execution_count": 7,
   "id": "9200295d-906e-455c-b48a-fd1241dd9b44",
   "metadata": {},
   "outputs": [
    {
     "name": "stdout",
     "output_type": "stream",
     "text": [
      "You are eligible for a senior citizen discount!\n"
     ]
    }
   ],
   "source": [
    "age = 65\n",
    "\n",
    "if age >= 60:\n",
    "    print(\"You are eligible for a senior citizen discount!\")  # This will print since age is 65\n",
    "else:\n",
    "    print(\"You are not eligible for a senior citizen discount.\")\n"
   ]
  },
  {
   "cell_type": "markdown",
   "id": "ca6519e0-8ad2-4f84-a139-2e110cfedf69",
   "metadata": {},
   "source": [
    "***"
   ]
  },
  {
   "cell_type": "code",
   "execution_count": null,
   "id": "344c3324-7f43-4c81-8820-ee458e990116",
   "metadata": {},
   "outputs": [],
   "source": []
  }
 ],
 "metadata": {
  "kernelspec": {
   "display_name": "Python 3 (ipykernel)",
   "language": "python",
   "name": "python3"
  },
  "language_info": {
   "codemirror_mode": {
    "name": "ipython",
    "version": 3
   },
   "file_extension": ".py",
   "mimetype": "text/x-python",
   "name": "python",
   "nbconvert_exporter": "python",
   "pygments_lexer": "ipython3",
   "version": "3.12.7"
  }
 },
 "nbformat": 4,
 "nbformat_minor": 5
}
