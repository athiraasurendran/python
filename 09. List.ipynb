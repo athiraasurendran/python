{
 "cells": [
  {
   "cell_type": "markdown",
   "id": "3e90bda3-38bf-45e1-a47e-2faccd464d7e",
   "metadata": {},
   "source": [
    "## <span style = \"color:green\"> 4] LIST </span>\n"
   ]
  },
  {
   "cell_type": "markdown",
   "id": "ea8a5cf8-5252-4fc5-ad9e-d00744cc404a",
   "metadata": {},
   "source": [
    "### Introduction to Lists\n",
    "\n",
    "A list in Python is a collection of items (elements) that are ordered, changeable (mutable), and allow duplicate elements.  \n",
    "\n",
    "Lists are one of the most versatile data types available in Python, allowing you to store a sequence of items in a single variable.  \n",
    "\n",
    "\n",
    "* Ordered: The items in a list have a defined order, and that order will not change unless explicitly done so.  \n",
    "* Mutable: You can change, add, and remove items after the list has been created.  \n",
    "* Allow Duplicates: Lists can have items with the same value.  "
   ]
  },
  {
   "cell_type": "markdown",
   "id": "e1510215-e065-4765-83cf-38d7a9585432",
   "metadata": {},
   "source": [
    "### Creating a List\n",
    "\n",
    "**Syntax:**\n",
    "\n",
    "Lists are created by placing all the items (elements) inside square brackets [], separated by commas."
   ]
  },
  {
   "cell_type": "code",
   "execution_count": 3,
   "id": "1d36bffa-51b5-4fd3-a85b-248ffb90c07f",
   "metadata": {},
   "outputs": [],
   "source": [
    "my_list = [1, 2, 3, 4, 5]\n",
    "\r",
    "# Here, my_list is a list containing five elements: 1, 2, 3, 4, and 5.\n"
   ]
  },
  {
   "cell_type": "code",
   "execution_count": 6,
   "id": "5ab6478d-8e4d-4ca1-b0c3-80c327a83e9e",
   "metadata": {},
   "outputs": [
    {
     "data": {
      "text/plain": [
       "[1, 2, 3, 4, 5]"
      ]
     },
     "execution_count": 6,
     "metadata": {},
     "output_type": "execute_result"
    }
   ],
   "source": [
    "my_list"
   ]
  },
  {
   "cell_type": "code",
   "execution_count": 5,
   "id": "3a622513-c088-46e6-b9df-ea37df215706",
   "metadata": {},
   "outputs": [],
   "source": [
    "mixed_list = [1, \"Hello\", 3.14, True]\n",
    "\r\n",
    "# List can contain multiple datatype\n"
   ]
  },
  {
   "cell_type": "code",
   "execution_count": 7,
   "id": "6cb8d69c-8186-465f-8c48-a1f8b0374a11",
   "metadata": {},
   "outputs": [
    {
     "data": {
      "text/plain": [
       "[1, 'Hello', 3.14, True]"
      ]
     },
     "execution_count": 7,
     "metadata": {},
     "output_type": "execute_result"
    }
   ],
   "source": [
    "mixed_list"
   ]
  },
  {
   "cell_type": "code",
   "execution_count": null,
   "id": "46521a51-199c-401f-9f4f-60807a86e724",
   "metadata": {},
   "outputs": [],
   "source": []
  },
  {
   "cell_type": "markdown",
   "id": "5ffd3f4d-f0ad-4fac-9ea2-28bcd7abe64d",
   "metadata": {},
   "source": [
    "### Accessing List Items\n",
    "\n",
    "**Indexing:**\n",
    "\n",
    "List items are accessed using an index. Indexes in Python start from 0.\n",
    "\n"
   ]
  },
  {
   "cell_type": "code",
   "execution_count": 9,
   "id": "8e4ac05d-7900-4722-8ca2-62ed7f45deec",
   "metadata": {},
   "outputs": [
    {
     "name": "stdout",
     "output_type": "stream",
     "text": [
      "apple\n",
      "cherry\n"
     ]
    }
   ],
   "source": [
    "my_list = ['apple', 'banana', 'cherry']\n",
    "print(my_list[0])  \n",
    "print(my_list[2])"
   ]
  },
  {
   "cell_type": "markdown",
   "id": "05927097-70b0-4a9c-9d6a-5dfd3dd8d979",
   "metadata": {},
   "source": [
    "**Negative Indexing:**\n",
    "\n",
    "Negative indexing starts from the end of the list."
   ]
  },
  {
   "cell_type": "code",
   "execution_count": 10,
   "id": "2e8c0d61-1b26-4403-afa7-b84f8137e631",
   "metadata": {},
   "outputs": [
    {
     "name": "stdout",
     "output_type": "stream",
     "text": [
      "cherry\n",
      "banana\n"
     ]
    }
   ],
   "source": [
    "print(my_list[-1])  \n",
    "print(my_list[-2])"
   ]
  },
  {
   "cell_type": "markdown",
   "id": "08f28dad-8502-4883-a0d0-5a27b596405f",
   "metadata": {},
   "source": [
    "**Slicing** \n",
    "It allows you to retrieve a part of a list by specifying a start and end index.\n",
    "\n",
    "list[start:end]\n",
    "\n",
    "The start index is inclusive, while the end index is exclusive."
   ]
  },
  {
   "cell_type": "code",
   "execution_count": 24,
   "id": "0121b924-4b9b-44fe-9628-22f4e0d358d1",
   "metadata": {},
   "outputs": [
    {
     "name": "stdout",
     "output_type": "stream",
     "text": [
      "[1, 2, 3]\n"
     ]
    }
   ],
   "source": [
    "my_list = [0, 1, 2, 3, 4, 5]\n",
    "sliced_list = my_list[1:4]\n",
    "print(sliced_list)"
   ]
  },
  {
   "cell_type": "markdown",
   "id": "7ec2b185-dbc3-47f8-8cb3-7dbdd1cb0d50",
   "metadata": {},
   "source": [
    "You can skip elements using a **step value in slicing.**"
   ]
  },
  {
   "cell_type": "code",
   "execution_count": 25,
   "id": "9142b80a-7b59-4da5-9fcf-9a41b50f7d99",
   "metadata": {},
   "outputs": [
    {
     "data": {
      "text/plain": [
       "[0, 2, 4]"
      ]
     },
     "execution_count": 25,
     "metadata": {},
     "output_type": "execute_result"
    }
   ],
   "source": [
    "my_list = [0, 1, 2, 3, 4, 5]\n",
    "\n",
    "my_list[0:6:2]\n"
   ]
  },
  {
   "cell_type": "code",
   "execution_count": null,
   "id": "8e483fb2-1725-476e-9ea1-1c7dd0d02849",
   "metadata": {},
   "outputs": [],
   "source": []
  },
  {
   "cell_type": "markdown",
   "id": "fab4a0d7-3a63-47a1-b442-6fffde87d54b",
   "metadata": {},
   "source": [
    "**Modifying a List**\n",
    "\n",
    "Changing Elements:\n",
    "You can modify elements in a list by assigning a new value to a specific index."
   ]
  },
  {
   "cell_type": "code",
   "execution_count": 11,
   "id": "6e6bb3fa-faa1-4954-b69e-65d8f2979f1e",
   "metadata": {},
   "outputs": [
    {
     "name": "stdout",
     "output_type": "stream",
     "text": [
      "[10, 99, 30]\n"
     ]
    }
   ],
   "source": [
    "my_list = [10, 20, 30]\n",
    "my_list[1] = 99\n",
    "print(my_list)"
   ]
  },
  {
   "cell_type": "markdown",
   "id": "5a03992d-f108-4f02-8c17-811b1fb26a83",
   "metadata": {},
   "source": [
    "### List Operations"
   ]
  },
  {
   "cell_type": "markdown",
   "id": "b87f2573-a2e7-4857-ab38-e20c91e8ebfe",
   "metadata": {},
   "source": [
    "**Concatenation:**\n",
    "\n",
    "You can concatenate two or more lists using the + operator."
   ]
  },
  {
   "cell_type": "code",
   "execution_count": 12,
   "id": "805240b6-4583-4517-9b28-e98b211658c8",
   "metadata": {},
   "outputs": [],
   "source": [
    "list1 = [1, 2, 3]\n",
    "list2 = [4, 5, 6]\n",
    "\n",
    "combined_list = list1 + list2"
   ]
  },
  {
   "cell_type": "code",
   "execution_count": 13,
   "id": "a9697f25-4a8a-4ef2-a0de-6bb45592e812",
   "metadata": {},
   "outputs": [
    {
     "data": {
      "text/plain": [
       "[1, 2, 3, 4, 5, 6]"
      ]
     },
     "execution_count": 13,
     "metadata": {},
     "output_type": "execute_result"
    }
   ],
   "source": [
    "combined_list"
   ]
  },
  {
   "cell_type": "markdown",
   "id": "580d73e4-753b-4b8a-8c91-78dd111a6562",
   "metadata": {},
   "source": [
    "**Repetition:**\n",
    "\n",
    "You can repeat a list multiple times using the * operator."
   ]
  },
  {
   "cell_type": "code",
   "execution_count": 17,
   "id": "c09dc6f2-3436-4082-9d0e-eb0282235d14",
   "metadata": {},
   "outputs": [],
   "source": [
    "my_list = [1, 2, 3]\n",
    "\r\n",
    "repeated_list = my_list* 3\r\n"
   ]
  },
  {
   "cell_type": "code",
   "execution_count": 18,
   "id": "e8f72c47-3232-4153-ade2-a4e507ea48ae",
   "metadata": {},
   "outputs": [
    {
     "data": {
      "text/plain": [
       "[1, 2, 3, 1, 2, 3, 1, 2, 3]"
      ]
     },
     "execution_count": 18,
     "metadata": {},
     "output_type": "execute_result"
    }
   ],
   "source": [
    "repeated_list"
   ]
  },
  {
   "cell_type": "markdown",
   "id": "2af613cd-e0ad-4091-ab5a-432514b2cd2e",
   "metadata": {},
   "source": [
    "**Nested Lists**\n",
    "\n",
    "A list can contain other lists as elements, which are called nested lists."
   ]
  },
  {
   "cell_type": "code",
   "execution_count": 6,
   "id": "e321790f-f904-4895-99e2-3e811f24cbbf",
   "metadata": {},
   "outputs": [],
   "source": [
    "nested = [[1,2,3], [4,5,6], [7,8,9]]"
   ]
  },
  {
   "cell_type": "code",
   "execution_count": 7,
   "id": "d010f121-1ffa-496c-abf5-0c22a80ce214",
   "metadata": {},
   "outputs": [
    {
     "data": {
      "text/plain": [
       "[[1, 2, 3], [4, 5, 6], [7, 8, 9]]"
      ]
     },
     "execution_count": 7,
     "metadata": {},
     "output_type": "execute_result"
    }
   ],
   "source": [
    "nested"
   ]
  },
  {
   "cell_type": "code",
   "execution_count": 8,
   "id": "26fe305b-56b7-477a-ad8a-f42d84022ff3",
   "metadata": {},
   "outputs": [
    {
     "data": {
      "text/plain": [
       "[1, 2, 3]"
      ]
     },
     "execution_count": 8,
     "metadata": {},
     "output_type": "execute_result"
    }
   ],
   "source": [
    "nested[0]"
   ]
  },
  {
   "cell_type": "code",
   "execution_count": 9,
   "id": "57ac4506-f221-46db-aa2e-32715cfb0fe3",
   "metadata": {},
   "outputs": [
    {
     "data": {
      "text/plain": [
       "[7, 8, 9]"
      ]
     },
     "execution_count": 9,
     "metadata": {},
     "output_type": "execute_result"
    }
   ],
   "source": [
    "nested[-1]"
   ]
  },
  {
   "cell_type": "markdown",
   "id": "bbe2a211-0182-46c4-aa3f-8f5dd34d4256",
   "metadata": {},
   "source": [
    "### Common List Methods"
   ]
  },
  {
   "cell_type": "markdown",
   "id": "7d25eacd-2783-4e5e-a1c7-d801f6270f05",
   "metadata": {},
   "source": [
    "**len():**\n",
    "\n",
    "Returns the number of items in a list."
   ]
  },
  {
   "cell_type": "code",
   "execution_count": 10,
   "id": "6c5ecaa3-3746-45b9-b693-031fdec998b7",
   "metadata": {},
   "outputs": [
    {
     "name": "stdout",
     "output_type": "stream",
     "text": [
      "4\n"
     ]
    }
   ],
   "source": [
    "my_list = [1, 2, 3, 4]\n",
    "print(len(my_list))"
   ]
  },
  {
   "cell_type": "markdown",
   "id": "eb2f19e1-2b4b-4c1a-8125-c55b34f6e380",
   "metadata": {},
   "source": [
    "**count():**\n",
    "\n",
    "Returns the number of times an element appears in a list."
   ]
  },
  {
   "cell_type": "code",
   "execution_count": 11,
   "id": "2e17669d-c0a5-47a0-a6e7-0d4698c0255f",
   "metadata": {},
   "outputs": [
    {
     "name": "stdout",
     "output_type": "stream",
     "text": [
      "2\n"
     ]
    }
   ],
   "source": [
    "my_list = [1, 2, 2, 3, 4]\n",
    "print(my_list.count(2))"
   ]
  },
  {
   "cell_type": "markdown",
   "id": "41be83bd-f3f8-4ee2-8dc5-21e032902bc5",
   "metadata": {},
   "source": [
    "**sort():**\n",
    "\n",
    "Sorts the list in ascending order."
   ]
  },
  {
   "cell_type": "code",
   "execution_count": 12,
   "id": "a11d424b-8154-4289-97a6-7b51ccc4bfb1",
   "metadata": {},
   "outputs": [
    {
     "name": "stdout",
     "output_type": "stream",
     "text": [
      "[1, 2, 3, 4]\n"
     ]
    }
   ],
   "source": [
    "my_list = [3, 1, 4, 2]\n",
    "my_list.sort()\n",
    "print(my_list)"
   ]
  },
  {
   "cell_type": "markdown",
   "id": "3300ffb5-6a84-41f6-813e-c250bb65bdbe",
   "metadata": {},
   "source": [
    "**reverse():**\n",
    "\n",
    "Reverses the order of the list."
   ]
  },
  {
   "cell_type": "code",
   "execution_count": 13,
   "id": "fc702f93-548f-4f2a-b95d-bb606faba626",
   "metadata": {},
   "outputs": [
    {
     "name": "stdout",
     "output_type": "stream",
     "text": [
      "[4, 3, 2, 1]\n"
     ]
    }
   ],
   "source": [
    "my_list.reverse()\n",
    "print(my_list)"
   ]
  },
  {
   "cell_type": "markdown",
   "id": "9a4f7c9f-a8be-404a-9014-9671d0b7433a",
   "metadata": {},
   "source": [
    "**index():**\n",
    "\n",
    "Returns the index of the first occurrence of an element."
   ]
  },
  {
   "cell_type": "code",
   "execution_count": 14,
   "id": "267545b8-5456-4d9f-b365-6b87f065fded",
   "metadata": {},
   "outputs": [
    {
     "name": "stdout",
     "output_type": "stream",
     "text": [
      "1\n"
     ]
    }
   ],
   "source": [
    "my_list = ['a', 'b', 'c']\n",
    "print(my_list.index('b'))"
   ]
  },
  {
   "cell_type": "markdown",
   "id": "1ff5c78f-d537-42b1-b3cd-5a21f5e3061e",
   "metadata": {},
   "source": [
    "**Append:**\n",
    "\n",
    "Adds an element at the end of the list."
   ]
  },
  {
   "cell_type": "code",
   "execution_count": 16,
   "id": "11980a76-a2bd-4037-abe9-991ce7f7c729",
   "metadata": {},
   "outputs": [],
   "source": [
    "my_list = [10, 20, 30]"
   ]
  },
  {
   "cell_type": "code",
   "execution_count": 17,
   "id": "38284018-a48d-43c1-b478-6f10ee0d5784",
   "metadata": {},
   "outputs": [
    {
     "name": "stdout",
     "output_type": "stream",
     "text": [
      "[10, 20, 30, 40]\n"
     ]
    }
   ],
   "source": [
    "my_list.append(40)\n",
    "print(my_list)  # Output: [10, 99, 30, 40]"
   ]
  },
  {
   "cell_type": "markdown",
   "id": "ae829963-3b2f-446a-a66c-eabfac4cd309",
   "metadata": {},
   "source": [
    "**Insert:**\n",
    "\n",
    "Adds an element at a specified index."
   ]
  },
  {
   "cell_type": "code",
   "execution_count": 18,
   "id": "41909543-4e6d-44c4-81a0-e4cf502966d8",
   "metadata": {},
   "outputs": [
    {
     "name": "stdout",
     "output_type": "stream",
     "text": [
      "[10, 25, 20, 30, 40]\n"
     ]
    }
   ],
   "source": [
    "my_list.insert(1, 25)\n",
    "print(my_list)"
   ]
  },
  {
   "cell_type": "markdown",
   "id": "93bd0739-41a3-444c-83b7-51806d05cae8",
   "metadata": {},
   "source": [
    "**Remove:**\n",
    "\n",
    "Removes the first occurrence of a specified element."
   ]
  },
  {
   "cell_type": "code",
   "execution_count": 20,
   "id": "b652bd52-ea10-4bdc-8e84-5bd8be1c1805",
   "metadata": {},
   "outputs": [
    {
     "name": "stdout",
     "output_type": "stream",
     "text": [
      "[10, 20, 30, 40]\n"
     ]
    }
   ],
   "source": [
    "my_list.remove(25)\n",
    "print(my_list)"
   ]
  },
  {
   "cell_type": "markdown",
   "id": "f051509f-b080-4500-a7d0-10be2d62655a",
   "metadata": {},
   "source": [
    "**Pop:**\n",
    "Removes an element at a specified index and returns it. If no index is specified, it removes the last element."
   ]
  },
  {
   "cell_type": "code",
   "execution_count": 21,
   "id": "280acc94-d74c-48c3-8da2-a88d53d6d1ca",
   "metadata": {},
   "outputs": [
    {
     "name": "stdout",
     "output_type": "stream",
     "text": [
      "[10, 20, 40]\n",
      "30\n"
     ]
    }
   ],
   "source": [
    "popped_item = my_list.pop(2)\n",
    "print(my_list)\n",
    "print(popped_item)"
   ]
  },
  {
   "cell_type": "markdown",
   "id": "f342c0ad-89e3-4c29-bcd5-e7b4e620d437",
   "metadata": {},
   "source": [
    "**Del:**\n",
    "\n",
    "Deletes an element at a specified index or the entire list."
   ]
  },
  {
   "cell_type": "code",
   "execution_count": 22,
   "id": "25c41194-6c73-4a00-a05d-03621e95d248",
   "metadata": {},
   "outputs": [
    {
     "name": "stdout",
     "output_type": "stream",
     "text": [
      "[10, 40]\n"
     ]
    }
   ],
   "source": [
    "del my_list[1]\n",
    "print(my_list)"
   ]
  },
  {
   "cell_type": "markdown",
   "id": "2e6023d7-a2ba-44ea-89b0-62593431ab0b",
   "metadata": {},
   "source": [
    "**Clear:**\n",
    "\n",
    "Empties the list, but keeps the list variable."
   ]
  },
  {
   "cell_type": "code",
   "execution_count": 23,
   "id": "17e138ea-0db4-44a6-adab-9e0768933098",
   "metadata": {},
   "outputs": [
    {
     "name": "stdout",
     "output_type": "stream",
     "text": [
      "[]\n"
     ]
    }
   ],
   "source": [
    "my_list.clear()\n",
    "print(my_list)"
   ]
  },
  {
   "cell_type": "code",
   "execution_count": null,
   "id": "bebfa100-2c09-4171-a07c-76de99db60cd",
   "metadata": {},
   "outputs": [],
   "source": []
  }
 ],
 "metadata": {
  "kernelspec": {
   "display_name": "Python 3 (ipykernel)",
   "language": "python",
   "name": "python3"
  },
  "language_info": {
   "codemirror_mode": {
    "name": "ipython",
    "version": 3
   },
   "file_extension": ".py",
   "mimetype": "text/x-python",
   "name": "python",
   "nbconvert_exporter": "python",
   "pygments_lexer": "ipython3",
   "version": "3.10.0"
  }
 },
 "nbformat": 4,
 "nbformat_minor": 5
}
