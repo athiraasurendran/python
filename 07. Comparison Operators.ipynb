{
 "cells": [
  {
   "cell_type": "markdown",
   "id": "7bc1c691-ecb2-4059-b21f-8bd73a7c4a64",
   "metadata": {},
   "source": [
    "## What are Comparison Operators?\n",
    "\n",
    "\n",
    "Comparison operators in Python are used to **compare two values or variables.** \n",
    "\n",
    "The result of a comparison is always a Boolean value (True or False).  \n",
    "\n",
    "These operators are essential in making decisions within programs, especially in conditional statements like if, elif, and else."
   ]
  },
  {
   "cell_type": "markdown",
   "id": "188f154e-fb5e-4d02-b302-f6451302b422",
   "metadata": {},
   "source": [
    "***Here’s a rundown of the six primary comparison operators in Python:***\n",
    "\n",
    "**a) Equal to (==)**\n",
    "\n",
    "The == operator checks if the value on the left is equal to the value on the right.  \n",
    "\n",
    "If the values are equal, the expression evaluates to True; otherwise, it evaluates to False."
   ]
  },
  {
   "cell_type": "code",
   "execution_count": 3,
   "id": "5932121e-6a7d-4872-b310-a3b75ec3c004",
   "metadata": {},
   "outputs": [],
   "source": [
    "a = 5\n",
    "b = 5\n",
    "c = 3"
   ]
  },
  {
   "cell_type": "code",
   "execution_count": 2,
   "id": "e4e6a52c-5357-4c13-abcc-13c8e6322577",
   "metadata": {},
   "outputs": [
    {
     "data": {
      "text/plain": [
       "True"
      ]
     },
     "execution_count": 2,
     "metadata": {},
     "output_type": "execute_result"
    }
   ],
   "source": [
    "a == b"
   ]
  },
  {
   "cell_type": "code",
   "execution_count": 4,
   "id": "2b948a14-0c7e-424b-8e1a-27aca120f4ae",
   "metadata": {},
   "outputs": [
    {
     "data": {
      "text/plain": [
       "False"
      ]
     },
     "execution_count": 4,
     "metadata": {},
     "output_type": "execute_result"
    }
   ],
   "source": [
    "a == c"
   ]
  },
  {
   "cell_type": "markdown",
   "id": "b7c08141-ba50-4560-8a0a-54663c306c5d",
   "metadata": {},
   "source": [
    "**b) Not Equal to (!=)**\n",
    "\n",
    "The != operator checks if the value on the left is not equal to the value on the right.  \n",
    "\n",
    "If the values are not equal, the expression evaluates to True; if they are equal, it evaluates to False."
   ]
  },
  {
   "cell_type": "code",
   "execution_count": 6,
   "id": "a3775e99-7d2e-4612-868a-1ae0e027b19b",
   "metadata": {},
   "outputs": [],
   "source": [
    "a = 10\n",
    "b = 12\n",
    "c = 10"
   ]
  },
  {
   "cell_type": "code",
   "execution_count": 7,
   "id": "84122f26-dcf4-4131-a5e9-157fbb0d3042",
   "metadata": {},
   "outputs": [
    {
     "data": {
      "text/plain": [
       "True"
      ]
     },
     "execution_count": 7,
     "metadata": {},
     "output_type": "execute_result"
    }
   ],
   "source": [
    "a != b"
   ]
  },
  {
   "cell_type": "code",
   "execution_count": 8,
   "id": "8e072b07-51ec-4b3d-98e3-42016ee2c15f",
   "metadata": {},
   "outputs": [
    {
     "data": {
      "text/plain": [
       "False"
      ]
     },
     "execution_count": 8,
     "metadata": {},
     "output_type": "execute_result"
    }
   ],
   "source": [
    "a != c"
   ]
  },
  {
   "cell_type": "markdown",
   "id": "5d11177d-92c1-4633-8de2-22cc67b80e63",
   "metadata": {},
   "source": [
    "**c) Greater Than (>)**\n",
    "\n",
    "The > operator checks if the value on the left is greater than the value on the right.\n",
    "\n",
    "If it is, the expression evaluates to True; otherwise, it evaluates to False."
   ]
  },
  {
   "cell_type": "code",
   "execution_count": 9,
   "id": "16a5eade-0c88-444b-bfce-a4c74fd17ced",
   "metadata": {},
   "outputs": [
    {
     "data": {
      "text/plain": [
       "True"
      ]
     },
     "execution_count": 9,
     "metadata": {},
     "output_type": "execute_result"
    }
   ],
   "source": [
    "a = 7\n",
    "b = 4\n",
    "\n",
    "a > b\n"
   ]
  },
  {
   "cell_type": "code",
   "execution_count": 10,
   "id": "847b6bae-6e6e-4b00-bcae-acc6d7bb2181",
   "metadata": {},
   "outputs": [
    {
     "data": {
      "text/plain": [
       "False"
      ]
     },
     "execution_count": 10,
     "metadata": {},
     "output_type": "execute_result"
    }
   ],
   "source": [
    "b > a"
   ]
  },
  {
   "cell_type": "markdown",
   "id": "9f615fc7-1b85-46c6-8aca-4e9d8a653fa4",
   "metadata": {},
   "source": [
    "**d) Less Than (<)**\n",
    "\n",
    "The < operator checks if the value on the left is less than the value on the right.  \n",
    "\n",
    "If it is, the expression evaluates to True; otherwise, it evaluates to False."
   ]
  },
  {
   "cell_type": "code",
   "execution_count": 12,
   "id": "0cf9358d-9ca5-4e88-97ec-c42fe8b6d349",
   "metadata": {},
   "outputs": [
    {
     "data": {
      "text/plain": [
       "True"
      ]
     },
     "execution_count": 12,
     "metadata": {},
     "output_type": "execute_result"
    }
   ],
   "source": [
    "a = 2\n",
    "b = 5\n",
    "\n",
    "a < b\n"
   ]
  },
  {
   "cell_type": "code",
   "execution_count": 13,
   "id": "01ae2521-7f6b-48df-87e7-e8b354c6d038",
   "metadata": {},
   "outputs": [
    {
     "data": {
      "text/plain": [
       "False"
      ]
     },
     "execution_count": 13,
     "metadata": {},
     "output_type": "execute_result"
    }
   ],
   "source": [
    "b < a"
   ]
  },
  {
   "cell_type": "markdown",
   "id": "bdb63ef4-0580-4dfc-bd5d-acd781d4962e",
   "metadata": {},
   "source": [
    "**e) Greater Than or Equal to (>=)**\n",
    "\n",
    "The >= operator checks if the value on the left is greater than or equal to the value on the right.  \n",
    "\n",
    "If it is, the expression evaluates to True; otherwise, it evaluates to False."
   ]
  },
  {
   "cell_type": "code",
   "execution_count": 18,
   "id": "f64e3be8-b0d3-44d6-bdbc-ef556d02bf1a",
   "metadata": {},
   "outputs": [
    {
     "data": {
      "text/plain": [
       "True"
      ]
     },
     "execution_count": 18,
     "metadata": {},
     "output_type": "execute_result"
    }
   ],
   "source": [
    "a = 5\n",
    "b = 6\n",
    "\n",
    "b >= b"
   ]
  },
  {
   "cell_type": "code",
   "execution_count": 20,
   "id": "9a664e6b-77cf-4b95-b20f-a0ef08a7fdcb",
   "metadata": {
    "scrolled": true
   },
   "outputs": [
    {
     "data": {
      "text/plain": [
       "False"
      ]
     },
     "execution_count": 20,
     "metadata": {},
     "output_type": "execute_result"
    }
   ],
   "source": [
    "a >= b"
   ]
  },
  {
   "cell_type": "code",
   "execution_count": 19,
   "id": "9b8d815e-d907-4c84-bebe-47f3976ae3e3",
   "metadata": {},
   "outputs": [
    {
     "data": {
      "text/plain": [
       "True"
      ]
     },
     "execution_count": 19,
     "metadata": {},
     "output_type": "execute_result"
    }
   ],
   "source": [
    "b >= a"
   ]
  },
  {
   "cell_type": "markdown",
   "id": "c808debd-12fc-48f7-aaa1-dd2cd0e7c26d",
   "metadata": {},
   "source": [
    "**f) Less Than or Equal to (<=)**\n",
    "\n",
    "The <= operator checks if the value on the left is less than or equal to the value on the right.  \n",
    "\n",
    "If it is, the expression evaluates to True; otherwise, it evaluates to False."
   ]
  },
  {
   "cell_type": "code",
   "execution_count": 21,
   "id": "855fa4da-5a29-4fc9-a69b-3a5bc4daa590",
   "metadata": {},
   "outputs": [
    {
     "data": {
      "text/plain": [
       "True"
      ]
     },
     "execution_count": 21,
     "metadata": {},
     "output_type": "execute_result"
    }
   ],
   "source": [
    "a = 3\n",
    "b = 5\n",
    "\n",
    "a <= b\n"
   ]
  },
  {
   "cell_type": "code",
   "execution_count": 22,
   "id": "a312f429-8f6b-4221-8261-6082c815554e",
   "metadata": {},
   "outputs": [
    {
     "data": {
      "text/plain": [
       "False"
      ]
     },
     "execution_count": 22,
     "metadata": {},
     "output_type": "execute_result"
    }
   ],
   "source": [
    "b <= a"
   ]
  },
  {
   "cell_type": "markdown",
   "id": "63d4f890-3f87-4ed1-acd7-9b63f3b8b89d",
   "metadata": {},
   "source": [
    "<h2> Table of Comparison Operators </h2><p>  In the table below, a=3 and b=4.</p>\n",
    "\n",
    "<table class=\"table table-bordered\">\n",
    "<tr>\n",
    "<th style=\"width:10%\">Operator</th><th style=\"width:45%\">Description</th><th>Example</th>\n",
    "</tr>\n",
    "<tr>\n",
    "<td>==</td>\n",
    "<td>If the values of two operands are equal, then the condition becomes true.</td>\n",
    "<td> (a == b) is not true.</td>\n",
    "</tr>\n",
    "<tr>\n",
    "<td>!=</td>\n",
    "<td>If values of two operands are not equal, then condition becomes true.</td>\n",
    "<td>(a != b) is true</td>\n",
    "</tr>\n",
    "<tr>\n",
    "<td>&gt;</td>\n",
    "<td>If the value of left operand is greater than the value of right operand, then condition becomes true.</td>\n",
    "<td> (a &gt; b) is not true.</td>\n",
    "</tr>\n",
    "<tr>\n",
    "<td>&lt;</td>\n",
    "<td>If the value of left operand is less than the value of right operand, then condition becomes true.</td>\n",
    "<td> (a &lt; b) is true.</td>\n",
    "</tr>\n",
    "<tr>\n",
    "<td>&gt;=</td>\n",
    "<td>If the value of left operand is greater than or equal to the value of right operand, then condition becomes true.</td>\n",
    "<td> (a &gt;= b) is not true. </td>\n",
    "</tr>\n",
    "<tr>\n",
    "<td>&lt;=</td>\n",
    "<td>If the value of left operand is less than or equal to the value of right operand, then condition becomes true.</td>\n",
    "<td> (a &lt;= b) is true. </td>\n",
    "</tr>\n",
    "</table>"
   ]
  },
  {
   "cell_type": "code",
   "execution_count": null,
   "id": "cf7d9829-36f5-4895-9066-6e39317b24df",
   "metadata": {},
   "outputs": [],
   "source": []
  },
  {
   "cell_type": "markdown",
   "id": "52969eb3-89c0-4f1d-ac77-0fbe1acef81a",
   "metadata": {},
   "source": [
    "### Summary\n",
    "\n",
    "* Comparison operators are fundamental tools in Python for comparing values and making decisions.  \n",
    "\n",
    "* They return a Boolean value (True or False) based on the result of the comparison.  \n",
    "\n",
    "* They can be combined with logical operators to form more complex conditions.  \n",
    "\n",
    "* They work not only with numbers but also with strings and other data types, although caution is needed when comparing different types."
   ]
  },
  {
   "cell_type": "markdown",
   "id": "6758dcb4-9cbf-40ff-a295-50bb1aaf0117",
   "metadata": {},
   "source": [
    "***"
   ]
  },
  {
   "cell_type": "code",
   "execution_count": null,
   "id": "cf0aa9b2-2a82-457c-a608-b10d4e81fc84",
   "metadata": {},
   "outputs": [],
   "source": []
  }
 ],
 "metadata": {
  "kernelspec": {
   "display_name": "Python 3 (ipykernel)",
   "language": "python",
   "name": "python3"
  },
  "language_info": {
   "codemirror_mode": {
    "name": "ipython",
    "version": 3
   },
   "file_extension": ".py",
   "mimetype": "text/x-python",
   "name": "python",
   "nbconvert_exporter": "python",
   "pygments_lexer": "ipython3",
   "version": "3.10.0"
  }
 },
 "nbformat": 4,
 "nbformat_minor": 5
}
