{
 "cells": [
  {
   "cell_type": "markdown",
   "id": "f1506b7f-65d7-4aef-bac0-eb3ad4a02a55",
   "metadata": {},
   "source": [
    "# <span style=color:green;>Dictionary</span>"
   ]
  },
  {
   "cell_type": "markdown",
   "id": "8c60a21e-50d9-44e4-be83-adef2f2ac0f8",
   "metadata": {},
   "source": [
    "## What is a Dictionary?\n",
    "A dictionary in Python is a built-in data structure that allows you to store data in key-value pairs.  \n",
    "It is also known as a dict.  \n",
    "Dictionaries are unordered, changeable, and indexed."
   ]
  },
  {
   "cell_type": "markdown",
   "id": "afd8eba3-3ad5-4078-a3b6-076ffdd3de43",
   "metadata": {},
   "source": [
    "Syntax: Dictionaries are created using curly braces {} with key-value pairs separated by commas. Each key-value pair is separated by a colon :."
   ]
  },
  {
   "cell_type": "code",
   "execution_count": 1,
   "id": "a2319a36-1f22-4313-82c5-b54484083324",
   "metadata": {},
   "outputs": [],
   "source": [
    "my_dict = {\n",
    "    \"name\": \"Alice\",\n",
    "    \"age\": 25,\n",
    "    \"city\": \"New York\"\n",
    "}"
   ]
  },
  {
   "cell_type": "code",
   "execution_count": 2,
   "id": "53bdaa58-0a49-482b-92c8-0b74060a8cfd",
   "metadata": {},
   "outputs": [
    {
     "data": {
      "text/plain": [
       "{'name': 'Alice', 'age': 25, 'city': 'New York'}"
      ]
     },
     "execution_count": 2,
     "metadata": {},
     "output_type": "execute_result"
    }
   ],
   "source": [
    "my_dict"
   ]
  },
  {
   "cell_type": "code",
   "execution_count": 3,
   "id": "a4c1f22f-2090-4c26-9b1a-e305d8f3bb7c",
   "metadata": {},
   "outputs": [
    {
     "data": {
      "text/plain": [
       "{'name': 'Bob', 'age': 30, 'job': 'Engineer'}"
      ]
     },
     "execution_count": 3,
     "metadata": {},
     "output_type": "execute_result"
    }
   ],
   "source": [
    "person = { \"name\": \"Bob\", \"age\": 30, \"job\": \"Engineer\" }\n",
    "\n",
    "person"
   ]
  },
  {
   "cell_type": "markdown",
   "id": "e221d8b1-e15f-4228-99d8-17bd1fda5361",
   "metadata": {},
   "source": [
    "Using the dict() Constructor: Create a dictionary from keyword arguments or from a list of tuples."
   ]
  },
  {
   "cell_type": "code",
   "execution_count": 4,
   "id": "23d348f0-d019-452e-bae9-b77f1266ee5a",
   "metadata": {},
   "outputs": [
    {
     "name": "stdout",
     "output_type": "stream",
     "text": [
      "{'name': 'Charlie', 'age': 35, 'job': 'Doctor'}\n"
     ]
    }
   ],
   "source": [
    "# Using keyword arguments\n",
    "person = dict(name=\"Charlie\", age=35, job=\"Doctor\")\n",
    "print(person)"
   ]
  },
  {
   "cell_type": "code",
   "execution_count": 5,
   "id": "b00e0625-aff4-417b-bb3f-c0bcff5eb023",
   "metadata": {},
   "outputs": [],
   "source": [
    "# Using a list of tuples\n",
    "pairs = [(\"name\", \"David\"), (\"age\", 40)]\n",
    "person = dict(pairs)"
   ]
  },
  {
   "cell_type": "code",
   "execution_count": 6,
   "id": "5ee616ff-f4d0-416a-98da-3bcdb1e420ee",
   "metadata": {},
   "outputs": [
    {
     "data": {
      "text/plain": [
       "{'name': 'David', 'age': 40}"
      ]
     },
     "execution_count": 6,
     "metadata": {},
     "output_type": "execute_result"
    }
   ],
   "source": [
    "person"
   ]
  },
  {
   "cell_type": "code",
   "execution_count": null,
   "id": "b8561195-ef69-4f0f-8540-1483a31859cf",
   "metadata": {},
   "outputs": [],
   "source": []
  },
  {
   "cell_type": "markdown",
   "id": "7a90ab1f-da39-45a3-8941-5f54f00e5748",
   "metadata": {},
   "source": [
    "Access the value associated with a specific key using **square brackets [] or the get()** method.\n",
    "\n",
    "**Using Square Brackets:**"
   ]
  },
  {
   "cell_type": "code",
   "execution_count": 7,
   "id": "f29c991f-bc57-4383-8891-22bb26273a74",
   "metadata": {},
   "outputs": [
    {
     "name": "stdout",
     "output_type": "stream",
     "text": [
      "Eve\n"
     ]
    }
   ],
   "source": [
    "my_dict = {\"name\": \"Eve\", \"age\": 28}\n",
    "print(my_dict[\"name\"])"
   ]
  },
  {
   "cell_type": "markdown",
   "id": "86c07186-bc2f-4bfb-a7d9-806b26128fa6",
   "metadata": {},
   "source": [
    "**Using the get() Method:**\n",
    "\n",
    "Returns None or a default value if the key is not found."
   ]
  },
  {
   "cell_type": "code",
   "execution_count": 26,
   "id": "1a0032ef-d842-483a-83ec-b3754b49879a",
   "metadata": {},
   "outputs": [
    {
     "name": "stdout",
     "output_type": "stream",
     "text": [
      "Frank\n"
     ]
    }
   ],
   "source": [
    "my_dict = {\"name\": \"Frank\", \"age\": 45}\n",
    "print(my_dict.get(\"name\"))"
   ]
  },
  {
   "cell_type": "code",
   "execution_count": 27,
   "id": "d9bf2e0f-5c99-4bc3-8cf4-acde7bb563e2",
   "metadata": {},
   "outputs": [
    {
     "name": "stdout",
     "output_type": "stream",
     "text": [
      "Unknown\n"
     ]
    }
   ],
   "source": [
    "print(my_dict.get(\"city\", \"Unknown\"))"
   ]
  },
  {
   "cell_type": "code",
   "execution_count": null,
   "id": "b649b110-e70e-4beb-81bf-f65537f5aeff",
   "metadata": {},
   "outputs": [],
   "source": []
  },
  {
   "cell_type": "markdown",
   "id": "12536da4-0102-44ca-92a0-54d118723e66",
   "metadata": {},
   "source": [
    "**It's important to note that dictionaries are flexible in the datatypes they can hold**"
   ]
  },
  {
   "cell_type": "code",
   "execution_count": 1,
   "id": "57c63bc0-9c10-419b-b0fe-b987685abc55",
   "metadata": {},
   "outputs": [],
   "source": [
    "my_dict = {\"key1\":123, \"key2\":[20,21,22], \"key3\":['apple','orange','banana']}"
   ]
  },
  {
   "cell_type": "code",
   "execution_count": 2,
   "id": "a8f00d9e-ed6d-4f60-b792-32b38881bdba",
   "metadata": {},
   "outputs": [
    {
     "data": {
      "text/plain": [
       "{'key1': 123, 'key2': [20, 21, 22], 'key3': ['apple', 'orange', 'banana']}"
      ]
     },
     "execution_count": 2,
     "metadata": {},
     "output_type": "execute_result"
    }
   ],
   "source": [
    "my_dict"
   ]
  },
  {
   "cell_type": "code",
   "execution_count": 23,
   "id": "d5dcf60f-6dbb-42c7-b656-c2d52ae3a807",
   "metadata": {},
   "outputs": [
    {
     "ename": "KeyError",
     "evalue": "0",
     "output_type": "error",
     "traceback": [
      "\u001b[1;31m---------------------------------------------------------------------------\u001b[0m",
      "\u001b[1;31mKeyError\u001b[0m                                  Traceback (most recent call last)",
      "Cell \u001b[1;32mIn[23], line 1\u001b[0m\n\u001b[1;32m----> 1\u001b[0m \u001b[43mmy_dict\u001b[49m\u001b[43m[\u001b[49m\u001b[38;5;241;43m0\u001b[39;49m\u001b[43m]\u001b[49m\n",
      "\u001b[1;31mKeyError\u001b[0m: 0"
     ]
    }
   ],
   "source": [
    "# error\n",
    "my_dict[0]"
   ]
  },
  {
   "cell_type": "code",
   "execution_count": 24,
   "id": "b6ae325e-b68b-4230-b2f6-11c79a0718bf",
   "metadata": {},
   "outputs": [
    {
     "data": {
      "text/plain": [
       "[20, 21, 22]"
      ]
     },
     "execution_count": 24,
     "metadata": {},
     "output_type": "execute_result"
    }
   ],
   "source": [
    "my_dict['key2']"
   ]
  },
  {
   "cell_type": "code",
   "execution_count": 25,
   "id": "d51d81d1-2106-4295-aab9-d9a66edbe5ec",
   "metadata": {},
   "outputs": [
    {
     "data": {
      "text/plain": [
       "20"
      ]
     },
     "execution_count": 25,
     "metadata": {},
     "output_type": "execute_result"
    }
   ],
   "source": [
    "my_dict['key2'][0]"
   ]
  },
  {
   "cell_type": "code",
   "execution_count": 31,
   "id": "f708430a-e014-4039-8bb1-e3fc8d514746",
   "metadata": {},
   "outputs": [
    {
     "data": {
      "text/plain": [
       "'APPLE'"
      ]
     },
     "execution_count": 31,
     "metadata": {},
     "output_type": "execute_result"
    }
   ],
   "source": [
    "my_dict['key3'][0].upper()"
   ]
  },
  {
   "cell_type": "code",
   "execution_count": null,
   "id": "93a1aa8e-7c68-4e3a-ad29-244635e9e4ea",
   "metadata": {},
   "outputs": [],
   "source": []
  },
  {
   "cell_type": "code",
   "execution_count": null,
   "id": "df99e2e8-d694-49ff-9e7b-0beb463bd569",
   "metadata": {},
   "outputs": [],
   "source": []
  },
  {
   "cell_type": "markdown",
   "id": "daecb4b6-bd7f-4630-ba3d-07054b3677e8",
   "metadata": {},
   "source": [
    "**Add or modify items** in a dictionary by assigning a value to a key."
   ]
  },
  {
   "cell_type": "code",
   "execution_count": 12,
   "id": "1ce26558-e3d7-498c-a93a-56f9cc32ffa0",
   "metadata": {},
   "outputs": [],
   "source": [
    "my_dict = {\"name\": \"Grace\", \"age\": 50}\n",
    "my_dict[\"job\"] = \"Teacher\"  # Adding a new key-value pair\n",
    "\n",
    "my_dict[\"age\"] = 51  # Modifying an existing key-value pair"
   ]
  },
  {
   "cell_type": "code",
   "execution_count": 13,
   "id": "b1ab0d11-fca8-4595-86db-98b1fe7aa978",
   "metadata": {},
   "outputs": [
    {
     "data": {
      "text/plain": [
       "{'name': 'Grace', 'age': 51, 'job': 'Teacher'}"
      ]
     },
     "execution_count": 13,
     "metadata": {},
     "output_type": "execute_result"
    }
   ],
   "source": [
    "my_dict"
   ]
  },
  {
   "cell_type": "code",
   "execution_count": null,
   "id": "4685ae20-bd4b-4941-ba82-f4df3acc3463",
   "metadata": {},
   "outputs": [],
   "source": []
  },
  {
   "cell_type": "markdown",
   "id": "beb8096b-2087-44be-90cd-3177bc0bbc02",
   "metadata": {},
   "source": [
    "**Remove items from a dictionary using pop(), popitem(), or del.**"
   ]
  },
  {
   "cell_type": "markdown",
   "id": "ce46b08b-79fb-4989-8cd5-3f4d29988f44",
   "metadata": {},
   "source": [
    "Using **pop()**: Removes and returns the value associated with a specified key."
   ]
  },
  {
   "cell_type": "code",
   "execution_count": 14,
   "id": "727edf05-f918-486f-bbdf-521b53b99f69",
   "metadata": {},
   "outputs": [
    {
     "name": "stdout",
     "output_type": "stream",
     "text": [
      "55\n",
      "{'name': 'Hannah'}\n"
     ]
    }
   ],
   "source": [
    "my_dict = {\"name\": \"Hannah\", \"age\": 55}\n",
    "age = my_dict.pop(\"age\")\n",
    "print(age) \n",
    "print(my_dict) "
   ]
  },
  {
   "cell_type": "markdown",
   "id": "c96ac187-381f-4b47-82a2-31f2757af948",
   "metadata": {},
   "source": [
    "Using **popitem()**: Removes and returns the last inserted key-value pair as a tuple."
   ]
  },
  {
   "cell_type": "code",
   "execution_count": 15,
   "id": "8b01f962-bef6-4f18-aced-96d5ad324650",
   "metadata": {},
   "outputs": [
    {
     "name": "stdout",
     "output_type": "stream",
     "text": [
      "('age', 60)\n",
      "{'name': 'Ivy'}\n"
     ]
    }
   ],
   "source": [
    "my_dict = {\"name\": \"Ivy\", \"age\": 60}\n",
    "item = my_dict.popitem()\n",
    "print(item) \n",
    "print(my_dict)\n"
   ]
  },
  {
   "cell_type": "markdown",
   "id": "0d72b06a-8404-4402-aa5e-2c6f201893c2",
   "metadata": {},
   "source": [
    "Using **clear()**: Removes all items from the dictionary"
   ]
  },
  {
   "cell_type": "code",
   "execution_count": 16,
   "id": "38534f8d-cdb1-48f0-8423-1477085c13f2",
   "metadata": {},
   "outputs": [
    {
     "name": "stdout",
     "output_type": "stream",
     "text": [
      "{}\n"
     ]
    }
   ],
   "source": [
    "my_dict = {\"name\": \"Jill\", \"age\": 70}\n",
    "my_dict.clear()\n",
    "print(my_dict)"
   ]
  },
  {
   "cell_type": "markdown",
   "id": "2d30a277-f200-4d31-8f52-e41c6e4fadc8",
   "metadata": {},
   "source": [
    "#### Dictionary Methods\n",
    "\n",
    "Dictionaries come with several useful methods:"
   ]
  },
  {
   "cell_type": "markdown",
   "id": "755e259b-8d9c-4367-a50c-04017c247f1c",
   "metadata": {},
   "source": [
    "**keys()**: Returns a view object of all the keys."
   ]
  },
  {
   "cell_type": "code",
   "execution_count": 17,
   "id": "b51fa384-5b0d-4804-8278-ad9909baf774",
   "metadata": {},
   "outputs": [
    {
     "name": "stdout",
     "output_type": "stream",
     "text": [
      "dict_keys(['name', 'age'])\n"
     ]
    }
   ],
   "source": [
    "my_dict = {\"name\": \"Karen\", \"age\": 75}\n",
    "print(my_dict.keys())"
   ]
  },
  {
   "cell_type": "markdown",
   "id": "f357cdf5-279e-484f-9d80-8f651ffa7225",
   "metadata": {},
   "source": [
    "**values()**: Returns a view object of all the values."
   ]
  },
  {
   "cell_type": "code",
   "execution_count": 18,
   "id": "917df7e6-6fd3-4079-a83c-14c3ea8e6ed3",
   "metadata": {},
   "outputs": [
    {
     "name": "stdout",
     "output_type": "stream",
     "text": [
      "dict_values(['Liam', 80])\n"
     ]
    }
   ],
   "source": [
    "my_dict = {\"name\": \"Liam\", \"age\": 80}\n",
    "print(my_dict.values())"
   ]
  },
  {
   "cell_type": "markdown",
   "id": "3b0516dc-c643-4823-a9f2-b130dc38f888",
   "metadata": {},
   "source": [
    "**items()**: Returns a view object of all key-value pairs."
   ]
  },
  {
   "cell_type": "code",
   "execution_count": 19,
   "id": "84d6e859-9a79-443d-8416-e84f33fb1dd9",
   "metadata": {},
   "outputs": [
    {
     "name": "stdout",
     "output_type": "stream",
     "text": [
      "dict_items([('name', 'Mia'), ('age', 85)])\n"
     ]
    }
   ],
   "source": [
    "my_dict = {\"name\": \"Mia\", \"age\": 85}\n",
    "print(my_dict.items())"
   ]
  },
  {
   "cell_type": "markdown",
   "id": "6b5a3129-0c8a-4b91-b1a6-9be8c2ff3e3d",
   "metadata": {},
   "source": [
    "**update()**: Updates the dictionary with key-value pairs from another dictionary or iterable of key-value pairs."
   ]
  },
  {
   "cell_type": "code",
   "execution_count": 20,
   "id": "7300a734-31c5-4ac4-9613-526d5f5d6e8d",
   "metadata": {},
   "outputs": [
    {
     "data": {
      "text/plain": [
       "{'name': 'Noah', 'age': 90, 'city': 'Boston', 'job': 'Artist'}"
      ]
     },
     "execution_count": 20,
     "metadata": {},
     "output_type": "execute_result"
    }
   ],
   "source": [
    "my_dict = {\"name\": \"Noah\", \"age\": 90}\n",
    "new_dict = {\"city\": \"Boston\", \"job\": \"Artist\"}\n",
    "my_dict.update(new_dict)\n",
    "\n",
    "my_dict"
   ]
  },
  {
   "cell_type": "code",
   "execution_count": null,
   "id": "8c0119dd-ced3-40b3-87cb-e29a1f9f0c3e",
   "metadata": {},
   "outputs": [],
   "source": []
  },
  {
   "cell_type": "markdown",
   "id": "993a6162-1bce-4ac5-80b5-2031193617c3",
   "metadata": {},
   "source": [
    "Dictionaries are a powerful data structure in Python for storing and managing data in key-value pairs.  \n",
    "\n",
    "They provide efficient lookups, flexible keys, and dynamic sizes, making them ideal for a wide range of applications, from simple data storage to complex data management."
   ]
  },
  {
   "cell_type": "markdown",
   "id": "25ef9172-0d2f-4d69-84c0-b08f20e59c28",
   "metadata": {},
   "source": [
    "***"
   ]
  },
  {
   "cell_type": "code",
   "execution_count": null,
   "id": "51eb35c7-78b7-4503-bae8-d60a0bc93197",
   "metadata": {},
   "outputs": [],
   "source": []
  }
 ],
 "metadata": {
  "kernelspec": {
   "display_name": "Python 3 (ipykernel)",
   "language": "python",
   "name": "python3"
  },
  "language_info": {
   "codemirror_mode": {
    "name": "ipython",
    "version": 3
   },
   "file_extension": ".py",
   "mimetype": "text/x-python",
   "name": "python",
   "nbconvert_exporter": "python",
   "pygments_lexer": "ipython3",
   "version": "3.10.0"
  }
 },
 "nbformat": 4,
 "nbformat_minor": 5
}
