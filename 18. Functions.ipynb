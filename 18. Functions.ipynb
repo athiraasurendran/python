{
 "cells": [
  {
   "cell_type": "markdown",
   "id": "41034019-6813-4726-a676-85edc6d4fc39",
   "metadata": {},
   "source": [
    "## <span style=color:brown;> User-Defined Functions in Python </span>"
   ]
  },
  {
   "cell_type": "markdown",
   "id": "01308463-b3d8-4adc-9d6d-ee2e984cae1b",
   "metadata": {},
   "source": [
    "* In Python, a **function** is a block of reusable code that is used to perform a specific task.  \n",
    "* You can create your own custom functions, known as user-defined functions, to organize your code, make it more readable, and avoid repetition.  \n",
    "* Functions are a core part of programming as they allow for modular, reusable, and organized code."
   ]
  },
  {
   "cell_type": "markdown",
   "id": "2ce126d4-af13-4f5c-81f3-69f95c47f3d9",
   "metadata": {},
   "source": [
    "**What is a Function?**\n",
    "\n",
    "A function is a block of organized, reusable code that performs a single action or task. Functions provide better modularity and reusability to your code.  \n",
    "\n",
    "There are two types of functions in Python:\n",
    "\n",
    "Built-in Functions: Functions like print(), len(), etc.  \n",
    "User-Defined Functions: Functions that you, the programmer, define to meet your needs."
   ]
  },
  {
   "cell_type": "markdown",
   "id": "e6d2bc33-96c3-45c8-9066-09865f57f1da",
   "metadata": {},
   "source": [
    "**Why Use Functions?**\n",
    "\n",
    "Functions allow you to:\n",
    "\n",
    "* Organize your code: Break your code into smaller, manageable parts.\n",
    "* Reusability: Write a piece of code once and use it multiple times.\n",
    "* Maintainability: Make your code easier to maintain and update.\n",
    "* Avoid repetition: Reduce redundancy by avoiding the repetition of code"
   ]
  },
  {
   "cell_type": "markdown",
   "id": "9ed19411-8d50-494c-adf2-f90fce37f9b0",
   "metadata": {},
   "source": [
    "Creating a Function (Syntax)  \n",
    "\n",
    "In Python, you create a function using the **def** keyword, followed by the function name and parentheses. The code inside the function is indented."
   ]
  },
  {
   "cell_type": "code",
   "execution_count": null,
   "id": "29986a17-c628-4b88-a812-ec1d89cd7c29",
   "metadata": {},
   "outputs": [],
   "source": [
    "def function_name(parameters):\n",
    "    # Code block (function body)\n",
    "    return value  # Optional"
   ]
  },
  {
   "cell_type": "markdown",
   "id": "d4b0a37d-e004-456f-bf98-01ff57f15748",
   "metadata": {},
   "source": [
    "* def: Keyword to define a function.\n",
    "* function_name: The name you give to the function.\n",
    "* parameters: (Optional) Values passed to the function when it is called.\n",
    "* return: (Optional) Used to return a value from the function."
   ]
  },
  {
   "cell_type": "markdown",
   "id": "c128a622-c834-4f30-81e3-b75cec88f82c",
   "metadata": {},
   "source": [
    "##### Defining a Simple Function"
   ]
  },
  {
   "cell_type": "code",
   "execution_count": 1,
   "id": "00ef1886-f15a-429d-8540-342382b389f8",
   "metadata": {},
   "outputs": [],
   "source": [
    "def greet():\n",
    "    print(\"Hello, welcome to Python!\")"
   ]
  },
  {
   "cell_type": "code",
   "execution_count": 2,
   "id": "5c6ebe6f-31af-4d91-9b84-30d337f5b10f",
   "metadata": {},
   "outputs": [
    {
     "name": "stdout",
     "output_type": "stream",
     "text": [
      "Hello, welcome to Python!\n"
     ]
    }
   ],
   "source": [
    "greet()"
   ]
  },
  {
   "cell_type": "markdown",
   "id": "1b949375-1817-4fff-b70e-008995efed35",
   "metadata": {},
   "source": [
    "**Calling a Function**\n",
    "\n",
    "Once a function is defined, you can call it by using its name followed by parentheses."
   ]
  },
  {
   "cell_type": "code",
   "execution_count": 4,
   "id": "bb6d2891-e18e-4114-aaeb-149c53456eac",
   "metadata": {},
   "outputs": [
    {
     "name": "stdout",
     "output_type": "stream",
     "text": [
      "Hello, welcome to Python!\n"
     ]
    }
   ],
   "source": [
    "def greet():\n",
    "    print(\"Hello, welcome to Python!\")\n",
    "\n",
    "# Call the function\n",
    "greet()"
   ]
  },
  {
   "cell_type": "markdown",
   "id": "726633f5-fa7b-45b7-9a7a-e092cac161cd",
   "metadata": {},
   "source": [
    "**Function Parameters and Arguments**\n",
    "\n",
    "You can pass values to a function when you call it. These values are known as arguments and are received by the function as parameters."
   ]
  },
  {
   "cell_type": "markdown",
   "id": "5fed7300-80ba-4a37-9c5b-529e18a1acf0",
   "metadata": {},
   "source": [
    "**Function with Parameters**"
   ]
  },
  {
   "cell_type": "code",
   "execution_count": 5,
   "id": "9c424cb1-39b0-4fb8-b0a4-c10f39a0d64b",
   "metadata": {},
   "outputs": [
    {
     "name": "stdout",
     "output_type": "stream",
     "text": [
      "Hello, Alice!\n"
     ]
    }
   ],
   "source": [
    "def greet_user(name):\n",
    "    print(f\"Hello, {name}!\")\n",
    "\n",
    "# Call the function with an argument\n",
    "greet_user(\"Alice\")"
   ]
  },
  {
   "cell_type": "markdown",
   "id": "43b9cb9d-5a7f-45e9-ad48-6f16e19ab0bf",
   "metadata": {},
   "source": [
    "* name is the parameter.\n",
    "* \"Alice\" is the argument passed to the function."
   ]
  },
  {
   "cell_type": "markdown",
   "id": "17eda247-e7ca-487a-85fb-f7df9d010c8f",
   "metadata": {},
   "source": [
    "**Return Values**\n",
    "  \n",
    "A function can return a value back to the caller using the return statement. Once return is called, the function exits."
   ]
  },
  {
   "cell_type": "code",
   "execution_count": 15,
   "id": "faf1bd83-677d-49b7-a9aa-848aecbafc76",
   "metadata": {},
   "outputs": [],
   "source": [
    "def add_numbers(a, b):\n",
    "    result = a + b\n",
    "    return result"
   ]
  },
  {
   "cell_type": "code",
   "execution_count": 16,
   "id": "1e338e12-23cf-4398-80af-297156f5297c",
   "metadata": {},
   "outputs": [
    {
     "data": {
      "text/plain": [
       "15"
      ]
     },
     "execution_count": 16,
     "metadata": {},
     "output_type": "execute_result"
    }
   ],
   "source": [
    "add_numbers(10,5)"
   ]
  },
  {
   "cell_type": "code",
   "execution_count": null,
   "id": "6e175f6a-ee34-4b7b-b16b-72a770cd3627",
   "metadata": {},
   "outputs": [],
   "source": []
  },
  {
   "cell_type": "markdown",
   "id": "06d0f901-6a89-4c69-9c15-fce5e131f6e9",
   "metadata": {},
   "source": [
    "* The function add_numbers() returns the sum of a and b."
   ]
  },
  {
   "cell_type": "markdown",
   "id": "187b3268-806f-40ab-83fa-9ac22e5623eb",
   "metadata": {},
   "source": [
    "**No Parameters, No Return Value**"
   ]
  },
  {
   "cell_type": "code",
   "execution_count": 7,
   "id": "62b8e822-c549-44f7-8f81-8a4383a5895c",
   "metadata": {},
   "outputs": [
    {
     "name": "stdout",
     "output_type": "stream",
     "text": [
      "Hello, world!\n"
     ]
    }
   ],
   "source": [
    "def say_hello():\n",
    "    print(\"Hello, world!\")\n",
    "\n",
    "say_hello()"
   ]
  },
  {
   "cell_type": "markdown",
   "id": "73243054-032e-49ee-a885-fb3197c1acf7",
   "metadata": {},
   "source": [
    "**Parameters, No Return Value**"
   ]
  },
  {
   "cell_type": "code",
   "execution_count": 8,
   "id": "919fba96-56d3-403f-ab05-4e11781d7a2a",
   "metadata": {},
   "outputs": [
    {
     "name": "stdout",
     "output_type": "stream",
     "text": [
      "Hi Bob, welcome!\n"
     ]
    }
   ],
   "source": [
    "def greet(name):\n",
    "    print(f\"Hi {name}, welcome!\")\n",
    "\n",
    "greet(\"Bob\")"
   ]
  },
  {
   "cell_type": "markdown",
   "id": "c65f51fb-0bbf-4ada-a114-0d1a69e9f8ce",
   "metadata": {},
   "source": [
    "**Parameters and Return Value**"
   ]
  },
  {
   "cell_type": "code",
   "execution_count": 9,
   "id": "125c9b55-41a7-4aa9-b4b4-2a0b16ed6f8b",
   "metadata": {},
   "outputs": [
    {
     "name": "stdout",
     "output_type": "stream",
     "text": [
      "Product: 6\n"
     ]
    }
   ],
   "source": [
    "def multiply(a, b):\n",
    "    return a * b\n",
    "\n",
    "product = multiply(2, 3)\n",
    "print(\"Product:\", product)"
   ]
  },
  {
   "cell_type": "code",
   "execution_count": null,
   "id": "10e2624b-b038-4088-b0a7-927ac25130b7",
   "metadata": {},
   "outputs": [],
   "source": []
  },
  {
   "cell_type": "markdown",
   "id": "9d1ca8dd-4e51-42f7-9833-b0cdfc63c2d8",
   "metadata": {},
   "source": [
    "**Keyword and Default Arguments**\n",
    "\n",
    "You can pass arguments by their keyword. This allows you to assign values based on the parameter names, regardless of the order."
   ]
  },
  {
   "cell_type": "code",
   "execution_count": 10,
   "id": "415779be-6073-42ac-82d8-5fef46f4316b",
   "metadata": {},
   "outputs": [],
   "source": [
    "def display_info(name, age):\n",
    "    print(f\"Name: {name}, Age: {age}\")"
   ]
  },
  {
   "cell_type": "code",
   "execution_count": 11,
   "id": "fafcfd88-ebdb-481f-98a3-15f2ada8b4b7",
   "metadata": {},
   "outputs": [
    {
     "name": "stdout",
     "output_type": "stream",
     "text": [
      "Name: John, Age: 25\n"
     ]
    }
   ],
   "source": [
    "# Calling the function with keyword arguments\n",
    "display_info(age=25, name=\"John\")"
   ]
  },
  {
   "cell_type": "code",
   "execution_count": null,
   "id": "09223b4d-da44-470b-a6ca-27fa1dcd1390",
   "metadata": {},
   "outputs": [],
   "source": []
  },
  {
   "cell_type": "markdown",
   "id": "f0733f32-789b-48ce-88e8-7609f120884c",
   "metadata": {},
   "source": [
    "### Practical Examples of User-Defined Functions"
   ]
  },
  {
   "cell_type": "markdown",
   "id": "31c556fb-a121-4192-80d8-2fe8df864799",
   "metadata": {},
   "source": [
    "**Function to Check if a Number is Even or Odd**"
   ]
  },
  {
   "cell_type": "code",
   "execution_count": 17,
   "id": "34f19881-a047-4e0e-9048-6e370dfbb001",
   "metadata": {},
   "outputs": [],
   "source": [
    "def is_even(number):\n",
    "    if number % 2 == 0:\n",
    "        return True\n",
    "    else:    \n",
    "        return False"
   ]
  },
  {
   "cell_type": "code",
   "execution_count": 18,
   "id": "5cf9aa24-5719-4ace-b5f7-0e85d6cc25f5",
   "metadata": {},
   "outputs": [
    {
     "data": {
      "text/plain": [
       "True"
      ]
     },
     "execution_count": 18,
     "metadata": {},
     "output_type": "execute_result"
    }
   ],
   "source": [
    "is_even(4)"
   ]
  },
  {
   "cell_type": "code",
   "execution_count": 19,
   "id": "2c44c72b-ce1f-4038-bd4c-cf237542582b",
   "metadata": {},
   "outputs": [
    {
     "data": {
      "text/plain": [
       "False"
      ]
     },
     "execution_count": 19,
     "metadata": {},
     "output_type": "execute_result"
    }
   ],
   "source": [
    "is_even(7)"
   ]
  },
  {
   "cell_type": "markdown",
   "id": "227f0feb-6b0f-48af-be10-2dee60d60733",
   "metadata": {},
   "source": [
    "**Function to Calculate the Area of a Circle**"
   ]
  },
  {
   "cell_type": "code",
   "execution_count": 23,
   "id": "bdc3e2bc-ad55-4828-a0d2-ef5d19ee2684",
   "metadata": {},
   "outputs": [],
   "source": [
    "def circle_areaa(radius):\n",
    "    return 3.14 * radius ** 2"
   ]
  },
  {
   "cell_type": "code",
   "execution_count": 24,
   "id": "dbdca03e-8948-4556-890e-d0f5fa3a0661",
   "metadata": {},
   "outputs": [
    {
     "data": {
      "text/plain": [
       "78.5"
      ]
     },
     "execution_count": 24,
     "metadata": {},
     "output_type": "execute_result"
    }
   ],
   "source": [
    "circle_areaa(5)"
   ]
  },
  {
   "cell_type": "code",
   "execution_count": null,
   "id": "2f932275-0c26-4cb6-936c-672bf5ae74ac",
   "metadata": {},
   "outputs": [],
   "source": []
  },
  {
   "cell_type": "markdown",
   "id": "98d6c248-1f7e-4c11-a9cf-9e6cb80f7e00",
   "metadata": {},
   "source": [
    "### Recursion"
   ]
  },
  {
   "cell_type": "markdown",
   "id": "14c5cf96-9c17-4d65-a6e4-17cf07f57f10",
   "metadata": {},
   "source": [
    "Recursion is a programming technique where a function calls itself to solve a smaller instance of the same problem. This continues until it reaches a base case, which is a condition that stops the recursion.\n",
    "\n",
    "Simply put, recursion breaks a problem down into smaller sub-problems. Each recursive call works on a smaller part of the problem until a solution is found."
   ]
  },
  {
   "cell_type": "markdown",
   "id": "78a5b5b8-c1e5-452a-803f-4d3dba8a5f1b",
   "metadata": {},
   "source": [
    "**Factorial Using Recursion**\n",
    "\n",
    "The factorial of a number (n!) is the product of all positive integers less than or equal to that number. For example, 5! = 5 * 4 * 3 * 2 * 1."
   ]
  },
  {
   "cell_type": "code",
   "execution_count": 20,
   "id": "4e1949e5-cdb1-4471-b40c-a8f97f846223",
   "metadata": {},
   "outputs": [],
   "source": [
    "def factorial(n):\n",
    "    # Base case: when n is 1, stop recursion\n",
    "    if n == 1:\n",
    "        return 1\n",
    "    # Recursive case: multiply n by the factorial of (n-1)\n",
    "    else:\n",
    "        return n * factorial(n - 1)"
   ]
  },
  {
   "cell_type": "code",
   "execution_count": 21,
   "id": "acd6d000-48fe-4584-8c4e-01a25686a83f",
   "metadata": {},
   "outputs": [
    {
     "data": {
      "text/plain": [
       "120"
      ]
     },
     "execution_count": 21,
     "metadata": {},
     "output_type": "execute_result"
    }
   ],
   "source": [
    "factorial(5)"
   ]
  },
  {
   "cell_type": "markdown",
   "id": "7f252706-4d3d-4f70-a742-0e44fdcd8cf1",
   "metadata": {},
   "source": [
    "**Explanation:**\n",
    "\n",
    "If n is 1, the function returns 1 (base case).  \n",
    "Otherwise, the function calls itself with n-1 until it reaches the base case.  \n",
    "For factorial(5), it computes:  \n",
    "5 * factorial(4)  \n",
    "4 * factorial(3)  \n",
    "3 * factorial(2)  \n",
    "2 * factorial(1)  \n",
    "Finally, it returns 120."
   ]
  },
  {
   "cell_type": "code",
   "execution_count": null,
   "id": "9693d94f-6b4b-45c3-96c6-3536a48f2b14",
   "metadata": {},
   "outputs": [],
   "source": []
  },
  {
   "cell_type": "markdown",
   "id": "943afaa7-ab98-47d1-9e6e-9b61760621c5",
   "metadata": {},
   "source": [
    "**Calculating the sum of numbers from 1 to n**"
   ]
  },
  {
   "cell_type": "markdown",
   "id": "b74b9120-867e-4837-9d13-ca08b5cadded",
   "metadata": {},
   "source": [
    "We want to find the sum of all numbers from 1 to a given number n. For example, if n = 5, the sum is 1 + 2 + 3 + 4 + 5 = 15"
   ]
  },
  {
   "cell_type": "markdown",
   "id": "0806c8fe-05cf-4e53-9d3b-350690c0029c",
   "metadata": {},
   "source": [
    "We can solve this using recursion by breaking it into smaller problems:\n",
    "\n",
    "The sum of numbers from 1 to n is equal to n + sum(1 to n-1)."
   ]
  },
  {
   "cell_type": "code",
   "execution_count": 1,
   "id": "7f32790d-4330-42de-8567-6e898b2bf0ca",
   "metadata": {},
   "outputs": [],
   "source": [
    "def recursive_sum(n):\n",
    "    # Base case: if n is 1, return 1 (this stops the recursion)\n",
    "    if n == 1:\n",
    "        return 1\n",
    "    # Recursive case: return n plus the sum of numbers from 1 to n-1\n",
    "    else:\n",
    "        return n + recursive_sum(n - 1)"
   ]
  },
  {
   "cell_type": "code",
   "execution_count": 2,
   "id": "c2a885c4-dca3-4818-a83e-69ad024ad2bb",
   "metadata": {},
   "outputs": [
    {
     "data": {
      "text/plain": [
       "15"
      ]
     },
     "execution_count": 2,
     "metadata": {},
     "output_type": "execute_result"
    }
   ],
   "source": [
    "recursive_sum(5)"
   ]
  },
  {
   "cell_type": "markdown",
   "id": "509337f6-f863-4ce9-9823-5301729ad7dd",
   "metadata": {},
   "source": [
    "**Explanation:**\n",
    "\n",
    "Base case: If n is 1, we simply return 1. This is the simplest form of the problem.  \n",
    "\n",
    "Recursive case: If n is greater than 1, we return n + recursive_sum(n - 1). This keeps calling the function with smaller numbers until it reaches the base case.`"
   ]
  },
  {
   "cell_type": "markdown",
   "id": "6280d896-a744-4001-8532-e4c499ee0e33",
   "metadata": {},
   "source": [
    "### Summary\n",
    "  \n",
    "* Functions in Python are defined using the def keyword.\n",
    "* Functions allow for code reusability and modularity.\n",
    "* Arguments and parameters"
   ]
  },
  {
   "cell_type": "markdown",
   "id": "4ee84ebe-2bfe-4465-9afc-a1d7845acf67",
   "metadata": {},
   "source": [
    "***"
   ]
  },
  {
   "cell_type": "code",
   "execution_count": null,
   "id": "b99d2dbb-745e-46fa-bb88-bdc86b41bf1e",
   "metadata": {},
   "outputs": [],
   "source": []
  },
  {
   "cell_type": "code",
   "execution_count": null,
   "id": "16b7e3e5-5538-490e-9e8a-0130d2dc28d1",
   "metadata": {},
   "outputs": [],
   "source": []
  }
 ],
 "metadata": {
  "kernelspec": {
   "display_name": "Python 3 (ipykernel)",
   "language": "python",
   "name": "python3"
  },
  "language_info": {
   "codemirror_mode": {
    "name": "ipython",
    "version": 3
   },
   "file_extension": ".py",
   "mimetype": "text/x-python",
   "name": "python",
   "nbconvert_exporter": "python",
   "pygments_lexer": "ipython3",
   "version": "3.12.5"
  }
 },
 "nbformat": 4,
 "nbformat_minor": 5
}
