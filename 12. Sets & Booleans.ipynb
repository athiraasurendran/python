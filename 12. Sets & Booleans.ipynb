{
 "cells": [
  {
   "cell_type": "markdown",
   "id": "b34b282c-29af-4eb8-a570-16297a1a7399",
   "metadata": {},
   "source": [
    "# <span style=color:green;>Sets</span>"
   ]
  },
  {
   "cell_type": "markdown",
   "id": "cc2261e4-8b86-44b3-8b6d-8d8efac18743",
   "metadata": {},
   "source": [
    "**What is a Set?**\n",
    "\n",
    "A set is an unordered collection of unique elements in Python. Unlike lists or tuples, sets do not allow duplicate elements, and the order of elements is not preserved.\n",
    "\n",
    "Syntax: Sets are created by placing elements inside curly braces {} separated by commas or by using the set() constructor."
   ]
  },
  {
   "cell_type": "code",
   "execution_count": 2,
   "id": "24984515-6476-40cb-8747-57b7ebbfbb60",
   "metadata": {},
   "outputs": [
    {
     "data": {
      "text/plain": [
       "{1, 2, 3}"
      ]
     },
     "execution_count": 2,
     "metadata": {},
     "output_type": "execute_result"
    }
   ],
   "source": [
    "# You can create a set by placing values inside curly braces {}.\n",
    "\n",
    "my_set = {1, 2, 3}\n",
    "my_set"
   ]
  },
  {
   "cell_type": "markdown",
   "id": "1d39b991-f8eb-4976-8470-00795ae22b00",
   "metadata": {},
   "source": [
    "Alternatively, you can create a set using the set() constructor, especially when starting with other iterable types like lists or tuples."
   ]
  },
  {
   "cell_type": "code",
   "execution_count": 4,
   "id": "bd1a2958-7a95-4e1e-9f11-84030ca0bacc",
   "metadata": {},
   "outputs": [
    {
     "data": {
      "text/plain": [
       "{1, 2, 3}"
      ]
     },
     "execution_count": 4,
     "metadata": {},
     "output_type": "execute_result"
    }
   ],
   "source": [
    "m_set = set([1, 2, 3])\n",
    "m_set"
   ]
  },
  {
   "cell_type": "markdown",
   "id": "988c6fe8-884d-4a49-bd83-feeb21500c6b",
   "metadata": {},
   "source": [
    "*Characteristics of Sets*\n",
    "\n",
    "* Unordered: The elements in a set do not follow any particular order.\n",
    "* Unindexed: You cannot access set elements using indexes (like in lists or tuples).\n",
    "* No duplicates: Sets automatically remove duplicate elements."
   ]
  },
  {
   "cell_type": "code",
   "execution_count": 6,
   "id": "f586a470-47c8-4b2a-a24f-a91f2b978eba",
   "metadata": {},
   "outputs": [
    {
     "name": "stdout",
     "output_type": "stream",
     "text": [
      "{1, 2, 3}\n"
     ]
    }
   ],
   "source": [
    "my_set = {1, 2, 2, 3}\n",
    "print(my_set)"
   ]
  },
  {
   "cell_type": "markdown",
   "id": "54f23769-b95c-4c9d-82c8-1d807087f23a",
   "metadata": {},
   "source": [
    "**Empty Set**\n",
    "  \n",
    "An empty set **must be** created using the set() constructor. Using {} creates an empty dictionary, not an empty set."
   ]
  },
  {
   "cell_type": "code",
   "execution_count": 7,
   "id": "f7eb161f-3ec5-4d1d-8940-5667f68e3a15",
   "metadata": {},
   "outputs": [
    {
     "name": "stdout",
     "output_type": "stream",
     "text": [
      "set()\n"
     ]
    }
   ],
   "source": [
    "empty_set = set()\n",
    "print(empty_set)"
   ]
  },
  {
   "cell_type": "code",
   "execution_count": null,
   "id": "02806364-3909-4df7-a212-619b5c60a0f2",
   "metadata": {},
   "outputs": [],
   "source": []
  },
  {
   "cell_type": "markdown",
   "id": "e0f5ae49-8bc6-4954-9ec2-be51096d6810",
   "metadata": {},
   "source": [
    "**Basic Set Methods**\n",
    "\n",
    "add(): Adds an element to the set.  \n",
    "remove(): Removes a specific element from the set; raises an error if the element is not found.   \n",
    "discard(): Removes a specific element from the set; does not raise an error if the element is not found.  \n",
    "pop(): Removes and returns a random element from the set.  \n",
    "clear(): Removes all elements from the set.  \n",
    "update(): Adds multiple elements to the set.  "
   ]
  },
  {
   "cell_type": "code",
   "execution_count": 16,
   "id": "4a380f64-c76b-4b95-b266-fab8c5d99238",
   "metadata": {},
   "outputs": [],
   "source": [
    "my_set = {1, 2, 3}"
   ]
  },
  {
   "cell_type": "code",
   "execution_count": 17,
   "id": "b92b0345-2c77-428f-a5a9-2d1a62c162af",
   "metadata": {},
   "outputs": [
    {
     "name": "stdout",
     "output_type": "stream",
     "text": [
      "{1, 2, 3, 4}\n"
     ]
    }
   ],
   "source": [
    "# Add an element\n",
    "my_set.add(4)\n",
    "print(my_set)"
   ]
  },
  {
   "cell_type": "code",
   "execution_count": 18,
   "id": "d27d97d2-c5da-44f2-bb01-2010b8dade4a",
   "metadata": {},
   "outputs": [
    {
     "name": "stdout",
     "output_type": "stream",
     "text": [
      "{1, 3, 4}\n"
     ]
    }
   ],
   "source": [
    "# Remove an element\n",
    "my_set.remove(2)\n",
    "print(my_set)"
   ]
  },
  {
   "cell_type": "code",
   "execution_count": 19,
   "id": "87f86f48-2f88-422e-8c59-498ade635d72",
   "metadata": {},
   "outputs": [],
   "source": [
    "# Remove an element without error if not present\n",
    "my_set.discard(5)"
   ]
  },
  {
   "cell_type": "code",
   "execution_count": 20,
   "id": "18e42309-bca6-4eb3-b657-46ee62451993",
   "metadata": {},
   "outputs": [
    {
     "data": {
      "text/plain": [
       "{1, 3, 4}"
      ]
     },
     "execution_count": 20,
     "metadata": {},
     "output_type": "execute_result"
    }
   ],
   "source": [
    "my_set"
   ]
  },
  {
   "cell_type": "code",
   "execution_count": 21,
   "id": "da1807c9-94f1-4c5e-8c0e-071dcf5d1d44",
   "metadata": {},
   "outputs": [
    {
     "name": "stdout",
     "output_type": "stream",
     "text": [
      "1\n"
     ]
    }
   ],
   "source": [
    "# Remove a random element\n",
    "random_element = my_set.pop()\n",
    "print(random_element)"
   ]
  },
  {
   "cell_type": "code",
   "execution_count": 22,
   "id": "1d61424f-b9b2-4cc3-8acf-2997f957207c",
   "metadata": {},
   "outputs": [
    {
     "name": "stdout",
     "output_type": "stream",
     "text": [
      "set()\n"
     ]
    }
   ],
   "source": [
    "# Clear the set\n",
    "my_set.clear()\n",
    "print(my_set)"
   ]
  },
  {
   "cell_type": "code",
   "execution_count": null,
   "id": "64af96bc-bbc0-45fa-a4e8-a74718e4dbd4",
   "metadata": {},
   "outputs": [],
   "source": []
  },
  {
   "cell_type": "markdown",
   "id": "ad29b493-fe07-4b03-8f70-5455f79be81f",
   "metadata": {},
   "source": [
    "**Union**\n",
    "  \n",
    "The union of two sets is a set that contains all unique elements from both sets.\n",
    "\n",
    "Syntax: set1 | set2 or set1.union(set2)"
   ]
  },
  {
   "cell_type": "code",
   "execution_count": 23,
   "id": "baac9064-37d8-46ad-9116-6a2dfb9d29c4",
   "metadata": {},
   "outputs": [
    {
     "name": "stdout",
     "output_type": "stream",
     "text": [
      "{1, 2, 3, 4, 5}\n"
     ]
    }
   ],
   "source": [
    "set1 = {1, 2, 3}\n",
    "set2 = {3, 4, 5}\n",
    "result = set1.union(set2)\n",
    "print(result)"
   ]
  },
  {
   "cell_type": "markdown",
   "id": "13e5a6e3-6850-4251-a643-78d56766460d",
   "metadata": {},
   "source": [
    "**Intersection**\n",
    "  \n",
    "The intersection of two sets is a set containing only the elements that are present in both sets.\n",
    "\n",
    "Syntax: set1 & set2 or set1.intersection(set2)"
   ]
  },
  {
   "cell_type": "code",
   "execution_count": 24,
   "id": "6fb62b4a-1094-46de-9f50-30177580674e",
   "metadata": {},
   "outputs": [
    {
     "data": {
      "text/plain": [
       "{2, 3}"
      ]
     },
     "execution_count": 24,
     "metadata": {},
     "output_type": "execute_result"
    }
   ],
   "source": [
    "set1 = {1, 2, 3}\n",
    "set2 = {2, 3, 4}\n",
    "result = set1.intersection(set2)\n",
    "result"
   ]
  },
  {
   "cell_type": "markdown",
   "id": "0917e898-bd7d-4657-8aed-747d90190433",
   "metadata": {},
   "source": [
    "Python sets are a versatile data structure that offers unique elements and fast membership testing.  \n",
    "\n",
    "They are ideal for operations where uniqueness is important, such as removing duplicates, performing set operations, or checking for element existence efficiently."
   ]
  },
  {
   "cell_type": "markdown",
   "id": "f9760d3d-3a58-4968-8441-9419a664812b",
   "metadata": {},
   "source": [
    "***"
   ]
  },
  {
   "cell_type": "markdown",
   "id": "389fc52d-3d6c-4527-8d8a-90451a042794",
   "metadata": {},
   "source": [
    "# <span style=color:green;>Boolean</span>"
   ]
  },
  {
   "cell_type": "markdown",
   "id": "b01b87f4-e4a8-43d1-a1b9-92cecc650db3",
   "metadata": {},
   "source": [
    "A boolean is a data type in Python that can hold one of two values: True or False. Booleans are essential for controlling flow in programs, especially in conditional statements and loops.\n",
    "\n",
    "Boolean values:  \n",
    "**True** represents a truthy value.  \n",
    "**False** represents a falsy value.  \n",
    "\n",
    "\n",
    "Booleans often result from comparisons or logical operations.  \n",
    "\n",
    "True and False are capitalized in Python and represent the only two boolean values."
   ]
  },
  {
   "cell_type": "code",
   "execution_count": 25,
   "id": "da0f4fd4-5a9b-4d37-81fe-0a30ffc36028",
   "metadata": {},
   "outputs": [
    {
     "name": "stdout",
     "output_type": "stream",
     "text": [
      "<class 'bool'>\n"
     ]
    }
   ],
   "source": [
    "a = True\n",
    "b = False\n",
    "print(type(a))"
   ]
  },
  {
   "cell_type": "code",
   "execution_count": 26,
   "id": "80dcfc6f-39e3-460e-b5ba-ee7d597ac2d5",
   "metadata": {},
   "outputs": [
    {
     "data": {
      "text/plain": [
       "True"
      ]
     },
     "execution_count": 26,
     "metadata": {},
     "output_type": "execute_result"
    }
   ],
   "source": [
    "x = 5\n",
    "y = 10\n",
    "result = (x < y)\n",
    "\n",
    "result"
   ]
  },
  {
   "cell_type": "markdown",
   "id": "c2deb1af-610b-44d2-aa9c-88cca43e879a",
   "metadata": {},
   "source": [
    "When to Use Booleans?  \n",
    "You should use booleans when:  \n",
    "\n",
    "* Making decisions using conditionals (if, else).  \n",
    "* Checking conditions in loops (e.g., to decide when a loop should stop).  \n",
    "* Evaluating expressions that require a True or False result.  \n",
    "* Performing logic operations (e.g., using and, or, not)."
   ]
  },
  {
   "cell_type": "markdown",
   "id": "68babcd6-b143-4173-8587-d80ead984400",
   "metadata": {},
   "source": [
    "***"
   ]
  },
  {
   "cell_type": "code",
   "execution_count": null,
   "id": "6eaea1eb-6704-4047-8591-5d7cd0f11121",
   "metadata": {},
   "outputs": [],
   "source": []
  },
  {
   "cell_type": "code",
   "execution_count": null,
   "id": "c50a456f-7a5c-46cd-8ea5-1cbc9b1824b6",
   "metadata": {},
   "outputs": [],
   "source": []
  }
 ],
 "metadata": {
  "kernelspec": {
   "display_name": "Python 3 (ipykernel)",
   "language": "python",
   "name": "python3"
  },
  "language_info": {
   "codemirror_mode": {
    "name": "ipython",
    "version": 3
   },
   "file_extension": ".py",
   "mimetype": "text/x-python",
   "name": "python",
   "nbconvert_exporter": "python",
   "pygments_lexer": "ipython3",
   "version": "3.10.0"
  }
 },
 "nbformat": 4,
 "nbformat_minor": 5
}
