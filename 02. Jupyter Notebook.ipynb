{
 "cells": [
  {
   "attachments": {
    "7adba8a8-cac7-4aaa-87dd-6847bfd271f4.png": {
     "image/png": "[encoded data removed]"
    }
   },
   "cell_type": "markdown",
   "id": "51992f64-c792-4d7c-af74-14eb7cdbec65",
   "metadata": {},
   "source": [
    "![image.png](attachment:7adba8a8-cac7-4aaa-87dd-6847bfd271f4.png)"
   ]
  },
  {
   "cell_type": "markdown",
   "id": "b41eef66-054a-4043-9a4b-6e60359d15dc",
   "metadata": {},
   "source": [
    "# <span style = \"color:coral\"> Jupyter Notebook</span> "
   ]
  },
  {
   "cell_type": "markdown",
   "id": "ac76dc1b-5a8d-4490-8da9-64beb66c0d29",
   "metadata": {},
   "source": [
    "Jupyter Notebook is an open-source web application that allows you to create and share documents containing live code, equations, visualizations, and narrative text. It is an incredibly powerful tool for interactively developing and presenting data science projects. This notebook will walk you through how to use Jupyter Notebooks for data science projects and how to set it up on your local machine.\n",
    "\n",
    "\n",
    "\n",
    "\n",
    "\n",
    "\n",
    "\n",
    "First, though: what is a “notebook”?\n",
    "\n",
    "A notebook integrates code and its output into a single document that combines visualizations, narrative text, mathematical equations, and other rich media. In other words: it’s a single document where you can run code, display the output, and also add explanations, formulas, charts, and make your work more transparent, understandable, repeatable, and shareable.\n",
    "\n",
    "Using Notebooks is now a major part of the data science workflow at companies across the globe. If your goal is to work with data, using a Notebook will speed up your workflow and make it easier to communicate and share your results.\n",
    "\n",
    "Best of all, as part of the open source Project Jupyter, Jupyter Notebooks are completely free. You can download the software on its own, or as part of the Anaconda data science toolkit."
   ]
  },
  {
   "cell_type": "markdown",
   "id": "d9ef75b9-018a-474a-8173-dc6bf7eb36a2",
   "metadata": {},
   "source": [
    "### Key Features of Jupyter Notebook\n",
    "\n",
    "* *Interactive Code Execution*: Run code in small, manageable chunks and see results immediately, which aids in learning and debugging.\n",
    "\n",
    "* *Rich Text Support*: Incorporate text, images, and LaTeX equations alongside code, making it great for documentation and presentations.\n",
    "\n",
    "* *Data Visualization*: Easily create and display plots and charts with libraries like Matplotlib and Seaborn.\n",
    "* *Extensibility*: Supports over 40 programming languages, including Python, R, and Julia."
   ]
  },
  {
   "cell_type": "markdown",
   "id": "50d16144-f342-4817-9b57-84b1aded08a0",
   "metadata": {},
   "source": [
    "### Jupyter Notebook Interface\n",
    "\n",
    "**Cells**: The building blocks of a notebook. There are two main types:\n",
    "\n",
    "\n",
    "* ***Code Cells***: Execute programming code and display outputs.\n",
    "\n",
    "* ***Markdown Cells***: Include formatted text, images, and links using Markdown language."
   ]
  },
  {
   "cell_type": "code",
   "execution_count": 2,
   "id": "755185a9-8a66-4650-86c0-98903cb054e1",
   "metadata": {},
   "outputs": [
    {
     "name": "stdout",
     "output_type": "stream",
     "text": [
      "Hello World\n"
     ]
    }
   ],
   "source": [
    "#This is a code cell\n",
    "\n",
    "print('Hello World')"
   ]
  },
  {
   "cell_type": "markdown",
   "id": "780f81b8-e7ea-445b-9c91-88bfcae95e03",
   "metadata": {},
   "source": [
    "##### This is a markdown cell"
   ]
  },
  {
   "cell_type": "code",
   "execution_count": null,
   "id": "c9f715fb-e772-4456-bb1e-48eb37f9348c",
   "metadata": {},
   "outputs": [],
   "source": []
  },
  {
   "cell_type": "markdown",
   "id": "92023b2a-e166-4492-8737-af9c63e414eb",
   "metadata": {},
   "source": [
    "### Basic Operations and Shortcuts\n",
    "\n",
    "Running a Cell: Use Shift + Enter to run the current cell and move to the next one.\n",
    "\n",
    "Insert a Cell: Use A to insert a cell above, and B to insert a cell below.\n",
    "\n",
    "Delete a Cell: Use D, D (press D twice) to delete the selected cell.\n",
    "\n",
    "Change Cell Type: Use Y to convert to a code cell and M to convert to a markdown cell.\n",
    "\n",
    "Save Notebook: Use Ctrl + S to save your notebook."
   ]
  },
  {
   "cell_type": "code",
   "execution_count": null,
   "id": "61a6c624-6156-47ef-9450-0c955399b103",
   "metadata": {},
   "outputs": [],
   "source": []
  },
  {
   "cell_type": "markdown",
   "id": "d8dec458-72a2-45a9-85be-b73c67da7d4c",
   "metadata": {},
   "source": [
    "### Additional Jupyter Notebook Operations and Shortcuts\n",
    "\n",
    "\n",
    "**General Shortcuts**\n",
    "\n",
    "**Command Mode (press Esc to enter):**\n",
    "\n",
    "\n",
    "Select Multiple Cells: Hold Shift and use the up/down arrows to select multiple cells.\n",
    "\n",
    "Undo Last Cell Deletion: Press Z to undo the last cell deletion.\n",
    "\n",
    "Move Cell Up: Press Ctrl + Up Arrow to move the selected cell up.\n",
    "\n",
    "Move Cell Down: Press Ctrl + Down Arrow to move the selected cell down.\n",
    "\n",
    "Toggle Line Numbers: Press L to toggle line numbers in the selected cell.\n",
    "\n",
    "Command Palette: Press P to access the command palette, which allows you to search and execute commands quickly.\n",
    "\n",
    "\n",
    "**Editing Mode (press Enter to enter):**\n",
    "\n",
    "\n",
    "Indent Code: Press Tab to indent the selected lines or the current line.\n",
    "\n",
    "Unindent Code: Press Shift + Tab to unindent the selected lines or the current line.\n",
    "\n",
    "Autocomplete: Press Tab to autocomplete code or see suggestions.\n",
    "\n",
    "Comment/Uncomment: Press Ctrl + / to comment or uncomment the selected lines.\n",
    "\n",
    "\n",
    "**Markdown Shortcuts**\n",
    "\n",
    "\n",
    "**Create Headers:**\n",
    "\n",
    "\n",
    "Header 1: Start with # followed by the header text.\n",
    "\n",
    "Header 2: Start with ## followed by the header text.\n",
    "\n",
    "Header 3: Start with ### followed by the header text.\n",
    "\n",
    "Bold Text: Wrap text with double asterisks **bold**.\n",
    "\n",
    "Italic Text: Wrap text with single asterisks *italic*.\n",
    "\n",
    "Bullet Points: Start a line with - or * .\n",
    "\n",
    "\n",
    "**Other Useful Shortcuts**\n",
    "\n",
    "\n",
    "Restart Kernel: Press 0, 0 (zero twice) to restart the kernel, which is useful for clearing all variables and restarting the execution environment.\n",
    "\n",
    "Split Cell: Press Ctrl + Shift + - to split the current cell into two at the cursor position.\n",
    "\n",
    "Merge Cells: Select multiple cells in command mode and press Shift + M to merge them into one.\n"
   ]
  },
  {
   "cell_type": "code",
   "execution_count": null,
   "id": "b70740ed-ecba-466a-9423-bc3f2f77ea85",
   "metadata": {},
   "outputs": [],
   "source": []
  },
  {
   "cell_type": "markdown",
   "id": "7230bac8-501f-4579-a870-399f781baa84",
   "metadata": {},
   "source": [
    "***Ever wondered about the difference between Python and Jupyter Notebook files? Let’s dive in!***\n",
    "\n",
    "**.py Files**: Think of these as the classic scripts, like a plain recipe. They’re straightforward Python files where you write your code. Perfect for running your programs from start to finish!\n",
    "\n",
    "**.ipynb Files**: Now, these are the jazzed-up version! Jupyter Notebooks allow you to mix code with text, images, and more—all in one place. Imagine having your recipe with notes, pictures, and live updates as you cook. It’s like coding with a fun, interactive twist!\n",
    "\n",
    "***Which one sounds more exciting to you? Both have their magic, depending on what you need!***"
   ]
  },
  {
   "cell_type": "markdown",
   "id": "fb92163c-4229-464f-bcf3-a2f9b09bdf1a",
   "metadata": {},
   "source": [
    "***"
   ]
  }
 ],
 "metadata": {
  "kernelspec": {
   "display_name": "Python 3 (ipykernel)",
   "language": "python",
   "name": "python3"
  },
  "language_info": {
   "codemirror_mode": {
    "name": "ipython",
    "version": 3
   },
   "file_extension": ".py",
   "mimetype": "text/x-python",
   "name": "python",
   "nbconvert_exporter": "python",
   "pygments_lexer": "ipython3",
   "version": "3.11.7"
  }
 },
 "nbformat": 4,
 "nbformat_minor": 5
}
