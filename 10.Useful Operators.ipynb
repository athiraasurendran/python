{
 "cells": [
  {
   "cell_type": "markdown",
   "id": "2aea750c-dd63-4e60-80eb-ee9a302ad6d6",
   "metadata": {},
   "source": [
    "# <span style=color:brown;> Useful Operators </span>"
   ]
  },
  {
   "cell_type": "markdown",
   "id": "570df50f-785e-4df7-9140-d1aac9ad73e1",
   "metadata": {},
   "source": [
    "## Compound Assignment Operators"
   ]
  },
  {
   "cell_type": "markdown",
   "id": "7a90bd9d-c0d6-4b44-bfca-12de57c590fc",
   "metadata": {},
   "source": [
    "Compound assignment operators in Python are used to **update the value of a variable by performing an operation and assigning the result back to the same variable** in a concise way.  \n",
    "\n",
    "These operators combine arithmetic or bitwise operations with assignment (=)."
   ]
  },
  {
   "cell_type": "markdown",
   "id": "97e92225-03d4-403c-92e9-eda4d04a34b3",
   "metadata": {},
   "source": [
    "**Addition assignment (+=)**\n",
    "\n",
    "It adds the right-hand operand to the left-hand operand and assigns the result to the left-hand operand."
   ]
  },
  {
   "cell_type": "code",
   "execution_count": 1,
   "id": "94503d0f-d1ec-49d8-a8fe-537da82f7629",
   "metadata": {},
   "outputs": [
    {
     "name": "stdout",
     "output_type": "stream",
     "text": [
      "8\n"
     ]
    }
   ],
   "source": [
    "x = 5\n",
    "x += 3  # Equivalent to x = x + 3\n",
    "print(x)"
   ]
  },
  {
   "cell_type": "markdown",
   "id": "aa7fcba1-2d8f-4d5d-8401-6720c00b9cc0",
   "metadata": {},
   "source": [
    "**Subtraction assignment (-=)**\n",
    "                          \n",
    "It subtracts the right-hand operand from the left-hand operand and assigns the result to the left-hand operand."
   ]
  },
  {
   "cell_type": "code",
   "execution_count": 2,
   "id": "18511806-5883-4abe-9231-79d2ee73f465",
   "metadata": {},
   "outputs": [
    {
     "name": "stdout",
     "output_type": "stream",
     "text": [
      "3\n"
     ]
    }
   ],
   "source": [
    "x = 5\n",
    "x -= 2  # Equivalent to x = x - 2\n",
    "print(x)"
   ]
  },
  {
   "cell_type": "markdown",
   "id": "bbfdfc97-64e1-4e9b-aea2-ff79bafe3da4",
   "metadata": {},
   "source": [
    "**Multiplication assignment (*=)**\n",
    "\n",
    "It multiplies the left-hand operand by the right-hand operand and assigns the result to the left-hand operand."
   ]
  },
  {
   "cell_type": "code",
   "execution_count": 3,
   "id": "57bc979c-9f97-4a38-a646-74f73b22a6b1",
   "metadata": {},
   "outputs": [
    {
     "name": "stdout",
     "output_type": "stream",
     "text": [
      "8\n"
     ]
    }
   ],
   "source": [
    "x = 4\n",
    "x *= 2  # Equivalent to x = x * 2\n",
    "print(x)"
   ]
  },
  {
   "cell_type": "markdown",
   "id": "469f3540-cfc5-4ad7-9875-c951e2e25fe7",
   "metadata": {},
   "source": [
    "**Division assignment (/=)**\n",
    "\n",
    "It divides the left-hand operand by the right-hand operand and assigns the result to the left-hand operand (result is always a float)."
   ]
  },
  {
   "cell_type": "code",
   "execution_count": 4,
   "id": "77488da8-cf94-45b1-a406-10379b4a809a",
   "metadata": {},
   "outputs": [
    {
     "name": "stdout",
     "output_type": "stream",
     "text": [
      "5.0\n"
     ]
    }
   ],
   "source": [
    "x = 10\n",
    "x /= 2  # Equivalent to x = x / 2\n",
    "print(x)\n"
   ]
  },
  {
   "cell_type": "code",
   "execution_count": null,
   "id": "737bc2b7-4c50-4c3d-a3d3-d59a6cb6793d",
   "metadata": {},
   "outputs": [],
   "source": []
  },
  {
   "cell_type": "markdown",
   "id": "6aa5f2ff-bfa2-422b-bd52-01bb713d6881",
   "metadata": {},
   "source": [
    "## Membership Operators"
   ]
  },
  {
   "cell_type": "markdown",
   "id": "4df24bf2-072c-4dc1-9ada-340ecf5a8284",
   "metadata": {},
   "source": [
    "Membership operators in Python are used to check whether a value is present in a sequence (like a list, tuple, string, or set) or any other iterable.\n",
    "\n",
    "There are two membership operators: in and not in. These operators return a Boolean value (True or False), depending on whether the element is found in the sequence."
   ]
  },
  {
   "cell_type": "markdown",
   "id": "8303f782-d95d-41f7-a0ad-18e3e3a495f4",
   "metadata": {},
   "source": [
    "**in Operator**\n",
    "\n",
    "The in operator checks if a value exists in a sequence (like a list, string, or dictionary). If the value is present, it returns True; otherwise, it returns False."
   ]
  },
  {
   "cell_type": "code",
   "execution_count": 8,
   "id": "b7032577-be4f-435e-b446-4919b927abaf",
   "metadata": {},
   "outputs": [],
   "source": [
    "# Using in with a list\n",
    "\n",
    "fruits = ['apple', 'banana', 'cherry']"
   ]
  },
  {
   "cell_type": "code",
   "execution_count": 9,
   "id": "80d2ac34-1ff9-466b-bcc2-4abc685733f2",
   "metadata": {},
   "outputs": [
    {
     "name": "stdout",
     "output_type": "stream",
     "text": [
      "True\n"
     ]
    }
   ],
   "source": [
    "print('apple' in fruits)"
   ]
  },
  {
   "cell_type": "code",
   "execution_count": 10,
   "id": "7cb59410-2cad-494c-aa63-930a6d4cb205",
   "metadata": {},
   "outputs": [
    {
     "data": {
      "text/plain": [
       "False"
      ]
     },
     "execution_count": 10,
     "metadata": {},
     "output_type": "execute_result"
    }
   ],
   "source": [
    "'orange' in fruits"
   ]
  },
  {
   "cell_type": "code",
   "execution_count": null,
   "id": "fc0ab604-9491-4f8a-ba4b-ceb0fe871bc6",
   "metadata": {},
   "outputs": [],
   "source": []
  },
  {
   "cell_type": "code",
   "execution_count": 11,
   "id": "507dd368-2363-48d0-b8cb-009e84a5fafe",
   "metadata": {},
   "outputs": [],
   "source": [
    "# Using in with a string\n",
    "sentence = \"Hello, world!\""
   ]
  },
  {
   "cell_type": "code",
   "execution_count": 15,
   "id": "2d54773e-441a-491b-8961-ab34eb168da8",
   "metadata": {},
   "outputs": [
    {
     "data": {
      "text/plain": [
       "True"
      ]
     },
     "execution_count": 15,
     "metadata": {},
     "output_type": "execute_result"
    }
   ],
   "source": [
    "'H' in sentence"
   ]
  },
  {
   "cell_type": "code",
   "execution_count": 12,
   "id": "5ebece7d-274c-42ea-a9d0-2b397e4e13c3",
   "metadata": {},
   "outputs": [
    {
     "data": {
      "text/plain": [
       "True"
      ]
     },
     "execution_count": 12,
     "metadata": {},
     "output_type": "execute_result"
    }
   ],
   "source": [
    "'Hello' in sentence"
   ]
  },
  {
   "cell_type": "code",
   "execution_count": 13,
   "id": "85e4dece-67e8-4e37-a645-4e70b37aaa36",
   "metadata": {},
   "outputs": [
    {
     "data": {
      "text/plain": [
       "True"
      ]
     },
     "execution_count": 13,
     "metadata": {},
     "output_type": "execute_result"
    }
   ],
   "source": [
    "'world' in sentence"
   ]
  },
  {
   "cell_type": "code",
   "execution_count": 14,
   "id": "84f259fc-5438-4eac-aa03-4295de9b8d7d",
   "metadata": {},
   "outputs": [
    {
     "data": {
      "text/plain": [
       "False"
      ]
     },
     "execution_count": 14,
     "metadata": {},
     "output_type": "execute_result"
    }
   ],
   "source": [
    "'Python' in sentence"
   ]
  },
  {
   "cell_type": "code",
   "execution_count": null,
   "id": "82e49b4d-a1ab-4628-995c-47e715c9e018",
   "metadata": {},
   "outputs": [],
   "source": []
  },
  {
   "cell_type": "code",
   "execution_count": 16,
   "id": "359b4323-4e87-45d2-bb22-6a88ba96debe",
   "metadata": {},
   "outputs": [],
   "source": [
    "# Using in with a dictionary\n",
    "# When used with a dictionary, in checks for the presence of a key, not a value.\n",
    "person = {'name': 'Alice', 'age': 25}"
   ]
  },
  {
   "cell_type": "code",
   "execution_count": 17,
   "id": "787a35cf-45bb-4434-ba7d-6f3204a7dc35",
   "metadata": {},
   "outputs": [
    {
     "data": {
      "text/plain": [
       "True"
      ]
     },
     "execution_count": 17,
     "metadata": {},
     "output_type": "execute_result"
    }
   ],
   "source": [
    "'name' in person"
   ]
  },
  {
   "cell_type": "code",
   "execution_count": 18,
   "id": "9a2928e1-3bf5-4d24-b495-7d0f4575039b",
   "metadata": {},
   "outputs": [
    {
     "data": {
      "text/plain": [
       "False"
      ]
     },
     "execution_count": 18,
     "metadata": {},
     "output_type": "execute_result"
    }
   ],
   "source": [
    "'Alice' in person"
   ]
  },
  {
   "cell_type": "code",
   "execution_count": null,
   "id": "b44aa642-7e2b-4fbd-84b8-853ef49e1b27",
   "metadata": {},
   "outputs": [],
   "source": []
  },
  {
   "cell_type": "markdown",
   "id": "4f56f947-02b6-46b9-a575-d0f87c5d76bc",
   "metadata": {},
   "source": [
    "**not in Operator**\n",
    "\n",
    "The not in operator checks if a value does not exist in a sequence. If the value is not present, it returns True; otherwise, it returns False."
   ]
  },
  {
   "cell_type": "code",
   "execution_count": 19,
   "id": "7bef3a4e-f1d3-4e60-bc72-5a66268a5998",
   "metadata": {},
   "outputs": [
    {
     "name": "stdout",
     "output_type": "stream",
     "text": [
      "True\n",
      "False\n"
     ]
    }
   ],
   "source": [
    "fruits = ['apple', 'banana', 'cherry']\n",
    "print('orange' not in fruits)\n",
    "print('banana' not in fruits)"
   ]
  },
  {
   "cell_type": "markdown",
   "id": "5891e33d-a0d3-41d4-8eb8-e5348413da30",
   "metadata": {},
   "source": [
    "**When to Use Membership Operators:**\n",
    "\n",
    "Search for elements in a sequence: Check whether an item exists in a list, string, or set.\n",
    "\n",
    "Check if a key exists in a dictionary: Use the in operator to see if a key is present in a dictionary."
   ]
  },
  {
   "cell_type": "markdown",
   "id": "08e718f6-5362-4547-820b-81e387874deb",
   "metadata": {},
   "source": [
    "**Important Points:** \n",
    "\n",
    "The in and not in operators are very efficient and concise ways to check for membership in sequences.\n",
    "\n",
    "These operators are case-sensitive when used with strings (e.g., 'Hello' in 'hello' would return False).\n",
    "\n",
    "For dictionaries, membership operators work only with keys, not values.\n",
    "\n",
    "These operators are very common and useful in Python, especially when working with data structures like lists, dictionaries, and sets."
   ]
  },
  {
   "cell_type": "code",
   "execution_count": null,
   "id": "cdf6c911-deff-4d6c-a418-b8dd55b17b8c",
   "metadata": {},
   "outputs": [],
   "source": []
  },
  {
   "cell_type": "markdown",
   "id": "851d216c-8e6e-4bbc-b1d0-ff861c4ba54f",
   "metadata": {},
   "source": [
    "### Commonly used built-in functions in Python"
   ]
  },
  {
   "cell_type": "markdown",
   "id": "5e429a71-0397-4bf9-a20f-cce59ecf0b05",
   "metadata": {},
   "source": [
    "**range()**\n",
    "\n",
    "The range() function generates a sequence of numbers, often used in loops. It can take 1, 2, or 3 arguments: start, stop, and step."
   ]
  },
  {
   "cell_type": "code",
   "execution_count": 21,
   "id": "61dd4440-6e6c-4456-9409-eb5403739dec",
   "metadata": {},
   "outputs": [
    {
     "data": {
      "text/plain": [
       "[0, 1, 2, 3, 4, 5, 6, 7, 8, 9]"
      ]
     },
     "execution_count": 21,
     "metadata": {},
     "output_type": "execute_result"
    }
   ],
   "source": [
    "list(range(0,10))"
   ]
  },
  {
   "cell_type": "code",
   "execution_count": 22,
   "id": "ef934856-e20c-429f-9fb0-1aac69df4d72",
   "metadata": {},
   "outputs": [
    {
     "data": {
      "text/plain": [
       "[1, 3, 5, 7, 9]"
      ]
     },
     "execution_count": 22,
     "metadata": {},
     "output_type": "execute_result"
    }
   ],
   "source": [
    "list(range(1, 10, 2))"
   ]
  },
  {
   "cell_type": "code",
   "execution_count": 20,
   "id": "23218ca2-335e-4a75-84c3-f7329d76d6f3",
   "metadata": {
    "scrolled": true
   },
   "outputs": [
    {
     "name": "stdout",
     "output_type": "stream",
     "text": [
      "0\n",
      "1\n",
      "2\n",
      "3\n",
      "4\n"
     ]
    }
   ],
   "source": [
    "for i in range(5):  # Starts at 0, ends at 4 (stop is exclusive)\n",
    "    print(i)"
   ]
  },
  {
   "cell_type": "markdown",
   "id": "95e18f0e-1fc5-406d-809b-b26aa53965af",
   "metadata": {},
   "source": [
    "**enumerate()**\n",
    "\n",
    "The enumerate() function adds a counter to an iterable (like a list) and returns it as an enumerated object.\n",
    "\n",
    "It’s commonly used when you need both the index and the value from an iterable in a loop."
   ]
  },
  {
   "cell_type": "code",
   "execution_count": 23,
   "id": "ad853777-a107-44e4-b8fc-5f2d8e71f42e",
   "metadata": {},
   "outputs": [],
   "source": [
    "fruits = ['apple', 'banana', 'cherry']"
   ]
  },
  {
   "cell_type": "code",
   "execution_count": 26,
   "id": "57452875-6b1b-4aa4-bd93-dd9a3b7f0ff1",
   "metadata": {},
   "outputs": [
    {
     "data": {
      "text/plain": [
       "[(0, 'apple'), (1, 'banana'), (2, 'cherry')]"
      ]
     },
     "execution_count": 26,
     "metadata": {},
     "output_type": "execute_result"
    }
   ],
   "source": [
    "list(enumerate(fruits))"
   ]
  },
  {
   "cell_type": "code",
   "execution_count": 29,
   "id": "d0c0183e-a6db-4d7a-a830-75df450b9b00",
   "metadata": {},
   "outputs": [
    {
     "data": {
      "text/plain": [
       "[(1, 'apple'), (2, 'banana'), (3, 'cherry')]"
      ]
     },
     "execution_count": 29,
     "metadata": {},
     "output_type": "execute_result"
    }
   ],
   "source": [
    "list(enumerate(fruits, start=1))"
   ]
  },
  {
   "cell_type": "code",
   "execution_count": 28,
   "id": "756ae593-c70d-4cf8-95d5-96925ce80d09",
   "metadata": {},
   "outputs": [
    {
     "name": "stdout",
     "output_type": "stream",
     "text": [
      "1 apple\n",
      "2 banana\n",
      "3 cherry\n"
     ]
    }
   ],
   "source": [
    "fruits = ['apple', 'banana', 'cherry']\n",
    "\n",
    "for index, fruit in enumerate(fruits, start=1):\n",
    "    print(index, fruit)"
   ]
  },
  {
   "cell_type": "markdown",
   "id": "d34c2618-6088-4d0e-9e97-5d28dfc8d838",
   "metadata": {},
   "source": [
    "**zip()**\n",
    "\n",
    "The zip() function combines two or more iterables (e.g., lists, tuples) and returns a zip object with paired elements from each iterable.\n",
    "\n",
    "Syntax: zip(*iterables)  \n"
   ]
  },
  {
   "cell_type": "code",
   "execution_count": 30,
   "id": "b8c2b3b7-e418-4177-8565-5d6f24078e49",
   "metadata": {},
   "outputs": [],
   "source": [
    "names = ['Alice', 'Bob', 'Charlie']\n",
    "ages = [25, 30, 35]\n",
    "combined = zip(names, ages)"
   ]
  },
  {
   "cell_type": "code",
   "execution_count": 32,
   "id": "ca4c10c8-1cda-4336-85a9-7db19d012f85",
   "metadata": {},
   "outputs": [
    {
     "data": {
      "text/plain": [
       "[('Alice', 25), ('Bob', 30), ('Charlie', 35)]"
      ]
     },
     "execution_count": 32,
     "metadata": {},
     "output_type": "execute_result"
    }
   ],
   "source": [
    "list(combined)"
   ]
  },
  {
   "cell_type": "code",
   "execution_count": 33,
   "id": "501cfe9c-1d44-4790-8269-c298c0bc4f5d",
   "metadata": {},
   "outputs": [
    {
     "name": "stdout",
     "output_type": "stream",
     "text": [
      "Alice is 25 years old\n",
      "Bob is 30 years old\n",
      "Charlie is 35 years old\n"
     ]
    }
   ],
   "source": [
    "names = ['Alice', 'Bob', 'Charlie']\n",
    "ages = [25, 30, 35]\n",
    "combined = zip(names, ages)\n",
    "for name, age in combined:\n",
    "    print(f\"{name} is {age} years old\")"
   ]
  },
  {
   "cell_type": "code",
   "execution_count": null,
   "id": "60b671cb-3c0d-413f-8718-75f8867306a2",
   "metadata": {},
   "outputs": [],
   "source": []
  },
  {
   "cell_type": "markdown",
   "id": "bdeb1c66-eabb-4849-ae4d-410e32dd26c5",
   "metadata": {},
   "source": [
    "**min()**\n",
    "\n",
    "The min() function returns the smallest item from an iterable or from multiple arguments."
   ]
  },
  {
   "cell_type": "code",
   "execution_count": 34,
   "id": "0ccf24a0-e977-4c1e-98ec-d1eedd6668ef",
   "metadata": {},
   "outputs": [
    {
     "data": {
      "text/plain": [
       "1"
      ]
     },
     "execution_count": 34,
     "metadata": {},
     "output_type": "execute_result"
    }
   ],
   "source": [
    "numbers = [4, 2, 8, 1, 5]\n",
    "\n",
    "min(numbers)"
   ]
  },
  {
   "cell_type": "code",
   "execution_count": 36,
   "id": "8003c563-e000-4b84-a007-ec717841b4d1",
   "metadata": {},
   "outputs": [
    {
     "name": "stdout",
     "output_type": "stream",
     "text": [
      "5\n"
     ]
    }
   ],
   "source": [
    "print(min(10, 20, 5, 30))"
   ]
  },
  {
   "cell_type": "markdown",
   "id": "c7e8e68f-548d-4881-a7d4-51c4f9e0be09",
   "metadata": {},
   "source": [
    "**max()**\n",
    "\n",
    "The max() function returns the largest item from an iterable or from multiple arguments."
   ]
  },
  {
   "cell_type": "code",
   "execution_count": 38,
   "id": "68188ef1-d3d3-436a-bfbd-4a0853526702",
   "metadata": {},
   "outputs": [
    {
     "name": "stdout",
     "output_type": "stream",
     "text": [
      "8\n"
     ]
    }
   ],
   "source": [
    "numbers = [4, 2, 8, 1, 5]\n",
    "print(max(numbers))"
   ]
  },
  {
   "cell_type": "code",
   "execution_count": 39,
   "id": "a7ab6cd7-4a09-4ef9-8dcd-bbddb86526ce",
   "metadata": {},
   "outputs": [
    {
     "name": "stdout",
     "output_type": "stream",
     "text": [
      "30\n"
     ]
    }
   ],
   "source": [
    "print(max(10, 20, 5, 30))"
   ]
  },
  {
   "cell_type": "markdown",
   "id": "3eb48340-3498-48da-8396-9a03ccbcffaf",
   "metadata": {},
   "source": [
    "**sum()**\n",
    "\n",
    "The sum() function returns the total sum of all elements in an iterable (e.g., list, tuple)."
   ]
  },
  {
   "cell_type": "code",
   "execution_count": 40,
   "id": "2aa3d13c-cf30-4dc7-8e0d-f330064a0c1f",
   "metadata": {},
   "outputs": [
    {
     "name": "stdout",
     "output_type": "stream",
     "text": [
      "15\n"
     ]
    }
   ],
   "source": [
    "numbers = [1, 2, 3, 4, 5]\n",
    "print(sum(numbers))"
   ]
  },
  {
   "cell_type": "markdown",
   "id": "658685f2-7bee-4ba9-9210-aeb48b6f7e10",
   "metadata": {},
   "source": [
    "**type()**\n",
    "\n",
    "The type() function returns the type of the object passed as an argument"
   ]
  },
  {
   "cell_type": "code",
   "execution_count": 41,
   "id": "430f3be5-534a-443d-86ab-33a3c849e780",
   "metadata": {},
   "outputs": [
    {
     "name": "stdout",
     "output_type": "stream",
     "text": [
      "<class 'int'>\n",
      "<class 'list'>\n"
     ]
    }
   ],
   "source": [
    "x = 10\n",
    "print(type(x))\n",
    "\n",
    "y = [1, 2, 3]\n",
    "print(type(y))\n"
   ]
  },
  {
   "cell_type": "markdown",
   "id": "23e31212-d0e5-4821-bed4-62b0083e0bc7",
   "metadata": {},
   "source": [
    "#### random Module\n",
    "\n",
    "The random module provides functions to generate random numbers and perform random actions, such as shuffling items or selecting random items from a list."
   ]
  },
  {
   "cell_type": "markdown",
   "id": "7864c212-5323-4fc7-8417-6809af847613",
   "metadata": {},
   "source": [
    "**random.randint()** (random integer in a range)"
   ]
  },
  {
   "cell_type": "code",
   "execution_count": 43,
   "id": "fe1794b8-218d-4031-807c-37ff6d429360",
   "metadata": {},
   "outputs": [],
   "source": [
    "import random"
   ]
  },
  {
   "cell_type": "code",
   "execution_count": 42,
   "id": "29b698a8-bdcc-4bf7-bf82-57b3bda66726",
   "metadata": {},
   "outputs": [
    {
     "name": "stdout",
     "output_type": "stream",
     "text": [
      "3\n"
     ]
    }
   ],
   "source": [
    "print(random.randint(1, 10)) # Outputs a random integer between 1 and 10"
   ]
  },
  {
   "cell_type": "markdown",
   "id": "883f7f32-d3fe-4ed0-ac11-1028bc47b880",
   "metadata": {},
   "source": [
    "**random.choice()** (random item from a list)"
   ]
  },
  {
   "cell_type": "code",
   "execution_count": 49,
   "id": "0a859829-bfd7-43f3-bf4e-56fd3b1294f7",
   "metadata": {},
   "outputs": [
    {
     "name": "stdout",
     "output_type": "stream",
     "text": [
      "green\n"
     ]
    }
   ],
   "source": [
    "choices = ['red', 'blue', 'green']\n",
    "print(random.choice(choices))  # Outputs a random color from the list"
   ]
  },
  {
   "cell_type": "markdown",
   "id": "1a6cf9bf-1426-4e43-bb74-4e1af24dbb48",
   "metadata": {},
   "source": [
    "**random.shuffle()** (shuffles a list in place)"
   ]
  },
  {
   "cell_type": "code",
   "execution_count": 45,
   "id": "55025098-575d-40cf-9267-ba89b0289be1",
   "metadata": {},
   "outputs": [
    {
     "name": "stdout",
     "output_type": "stream",
     "text": [
      "[5, 2, 3, 4, 1]\n"
     ]
    }
   ],
   "source": [
    "deck = [1, 2, 3, 4, 5]\n",
    "random.shuffle(deck)\n",
    "print(deck)  # Deck is shuffled randomly\n"
   ]
  },
  {
   "cell_type": "code",
   "execution_count": null,
   "id": "9008d37e-4605-4c0b-8cbf-c36c5d152029",
   "metadata": {},
   "outputs": [],
   "source": []
  },
  {
   "cell_type": "markdown",
   "id": "df76ca3f-f58a-4bfd-be2b-cc9c8fa6a5bc",
   "metadata": {},
   "source": [
    "***"
   ]
  },
  {
   "cell_type": "code",
   "execution_count": null,
   "id": "f22d3780-7ff5-4593-a638-341a730881e1",
   "metadata": {},
   "outputs": [],
   "source": []
  }
 ],
 "metadata": {
  "kernelspec": {
   "display_name": "Python 3 (ipykernel)",
   "language": "python",
   "name": "python3"
  },
  "language_info": {
   "codemirror_mode": {
    "name": "ipython",
    "version": 3
   },
   "file_extension": ".py",
   "mimetype": "text/x-python",
   "name": "python",
   "nbconvert_exporter": "python",
   "pygments_lexer": "ipython3",
   "version": "3.10.0"
  }
 },
 "nbformat": 4,
 "nbformat_minor": 5
}
