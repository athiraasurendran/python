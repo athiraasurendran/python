{
 "cells": [
  {
   "cell_type": "markdown",
   "id": "60901148-938b-448f-90b0-1a683a18700e",
   "metadata": {},
   "source": [
    "## What is Scope?\n",
    "\n",
    "Scope refers to the part of a program where a variable can be accessed. In Python, variables can have different scopes, and these scopes control where the variable is visible or usable."
   ]
  },
  {
   "cell_type": "markdown",
   "id": "b0c167a1-f7ed-453b-a122-2024fc0c1bb7",
   "metadata": {},
   "source": [
    "Python follows the **LEGB** rule to decide the scope of a variable:\n",
    "\n",
    "* L: Local\n",
    "* E: Enclosing\n",
    "* G: Global\n",
    "* B: Built-in"
   ]
  },
  {
   "cell_type": "markdown",
   "id": "37faea6b-20ec-4f46-82d3-4f0109e1b915",
   "metadata": {},
   "source": [
    "#### 1. Local Scope (L)\n",
    "\n",
    "A local variable is one that’s defined inside a function. It's only accessible within that function."
   ]
  },
  {
   "cell_type": "code",
   "execution_count": 2,
   "id": "1ed761df-4208-4cc0-a79e-aeee22729f9f",
   "metadata": {},
   "outputs": [
    {
     "name": "stdout",
     "output_type": "stream",
     "text": [
      "10\n"
     ]
    }
   ],
   "source": [
    "def my_function():\n",
    "    x = 10  # Local variable\n",
    "    print(x)  # Can access x here\n",
    "\n",
    "my_function()  # Output: 10\n",
    "# print(x)  # Error: x is not defined outside the function\n"
   ]
  },
  {
   "cell_type": "code",
   "execution_count": 4,
   "id": "5663a9fb-7349-48f0-b243-aaa2eb069b7d",
   "metadata": {},
   "outputs": [
    {
     "ename": "NameError",
     "evalue": "name 'x' is not defined",
     "output_type": "error",
     "traceback": [
      "\u001b[1;31m---------------------------------------------------------------------------\u001b[0m",
      "\u001b[1;31mNameError\u001b[0m                                 Traceback (most recent call last)",
      "Cell \u001b[1;32mIn[4], line 1\u001b[0m\n\u001b[1;32m----> 1\u001b[0m \u001b[38;5;28mprint\u001b[39m(x)\n",
      "\u001b[1;31mNameError\u001b[0m: name 'x' is not defined"
     ]
    }
   ],
   "source": [
    "print(x)"
   ]
  },
  {
   "cell_type": "markdown",
   "id": "d277fbba-e47a-4898-9530-f23792d778c7",
   "metadata": {},
   "source": [
    "In this example, x is a local variable inside my_function(). \n",
    "\n",
    "It only exists while the function is running and can’t be accessed outside the function."
   ]
  },
  {
   "cell_type": "markdown",
   "id": "653f56ac-54c0-44a0-beca-bd29a277b611",
   "metadata": {},
   "source": [
    "#### 2. Enclosing Scope (E)\n",
    "\n",
    "An enclosing variable is in a function that’s nested inside another function. The inner function can access variables from its enclosing function (the function it's inside of)."
   ]
  },
  {
   "cell_type": "code",
   "execution_count": 4,
   "id": "9b848288-f3fd-4c88-a583-e5e688c9849c",
   "metadata": {},
   "outputs": [
    {
     "name": "stdout",
     "output_type": "stream",
     "text": [
      "5\n"
     ]
    }
   ],
   "source": [
    "def outer_function():\n",
    "    x = 5  # Enclosing variable\n",
    "\n",
    "    def inner_function():\n",
    "        print(x)  # Inner function can access x from the outer function\n",
    "    \n",
    "    inner_function()\n",
    "\n",
    "outer_function()  # Output: 5\n"
   ]
  },
  {
   "cell_type": "markdown",
   "id": "cbbd77a3-eb45-4732-b2d5-60943f3d3b76",
   "metadata": {},
   "source": [
    "Here, x is in the enclosing scope of inner_function() because it’s defined in the outer_function(), which wraps around the inner_function(). \n",
    "\n",
    "The inner function can access it."
   ]
  },
  {
   "cell_type": "markdown",
   "id": "38b7ddd6-3e79-48b8-a3fe-2d869740a3fa",
   "metadata": {},
   "source": [
    "#### 3. Global Scope (G)\n",
    "\n",
    "A global variable is defined outside of all functions, and it can be accessed from anywhere in the program. \n",
    "\n",
    "If you define a variable outside of a function, it is global."
   ]
  },
  {
   "cell_type": "code",
   "execution_count": 5,
   "id": "186220a2-d68a-4a4c-beb2-339d62e6a6c9",
   "metadata": {},
   "outputs": [
    {
     "name": "stdout",
     "output_type": "stream",
     "text": [
      "20\n",
      "20\n"
     ]
    }
   ],
   "source": [
    "x = 20  # Global variable\n",
    "\n",
    "def my_function():\n",
    "    print(x)  # Can access the global variable inside the function\n",
    "\n",
    "my_function()  # Output: 20\n",
    "print(x)  # Output: 20 (can access global variable outside the function)\n"
   ]
  },
  {
   "cell_type": "markdown",
   "id": "fa4c9fd6-dcb0-4b99-9ece-1c9d2b0984b6",
   "metadata": {},
   "source": [
    "In this example, x is a global variable, and it can be accessed both inside and outside my_function()."
   ]
  },
  {
   "cell_type": "markdown",
   "id": "76fb5be4-9b98-41d1-a5a9-f1735268f768",
   "metadata": {},
   "source": [
    "**Modifying Global Variables:**\n",
    "\n",
    "If you want to modify a global variable from inside a function, you have to use the global keyword:"
   ]
  },
  {
   "cell_type": "code",
   "execution_count": 6,
   "id": "32be830e-1c4d-4d64-bc38-a5669588de05",
   "metadata": {},
   "outputs": [
    {
     "name": "stdout",
     "output_type": "stream",
     "text": [
      "30\n",
      "30\n"
     ]
    }
   ],
   "source": [
    "x = 20  # Global variable\n",
    "\n",
    "def my_function():\n",
    "    global x\n",
    "    x = 30  # Modify the global variable\n",
    "    print(x)\n",
    "\n",
    "my_function()  # Output: 30\n",
    "print(x)  # Output: 30 (global variable has been modified)"
   ]
  },
  {
   "cell_type": "markdown",
   "id": "c506a525-b463-43e8-a258-42be708549bb",
   "metadata": {},
   "source": [
    "Without the global keyword, Python would assume you're creating a new local variable, not modifying the global one."
   ]
  },
  {
   "cell_type": "markdown",
   "id": "c6737af5-95db-407c-9ab2-2dd02b709d66",
   "metadata": {},
   "source": [
    "#### 4. Built-in Scope (B)\n",
    "Python also has a built-in scope, which includes all the built-in functions and variables that are available to you by default, like print(), len(), int(), etc. \n",
    "\n",
    "These are always available without needing to be defined."
   ]
  },
  {
   "cell_type": "code",
   "execution_count": 7,
   "id": "af57b914-9e51-4496-a238-186e564dacc9",
   "metadata": {},
   "outputs": [
    {
     "name": "stdout",
     "output_type": "stream",
     "text": [
      "3\n"
     ]
    }
   ],
   "source": [
    "print(len([1, 2, 3]))  # Built-in functions: print() and len()"
   ]
  },
  {
   "cell_type": "markdown",
   "id": "8368f8d0-1af1-4d23-800c-ee51641a8e72",
   "metadata": {},
   "source": [
    "In this case, both print() and len() are examples of built-in functions in Python, so they are always available to use."
   ]
  },
  {
   "cell_type": "markdown",
   "id": "5f84bbc8-e012-4d2d-a4e7-d3dd84b5a7be",
   "metadata": {},
   "source": [
    "#### Putting It All Together: The LEGB Rule\n",
    "\n",
    "When Python encounters a variable, it checks its scope in the following order (LEGB):\n",
    "\n",
    "**Local (L):** First, Python looks in the local scope (inside the current function).  \n",
    "\n",
    "**Enclosing (E):** If it’s not found, it checks the enclosing scope (any outer functions that are wrapping around the current function).  \n",
    "\n",
    "**Global (G):** If it’s still not found, it checks the global scope (variables defined at the top level of your program).  \n",
    "\n",
    "**Built-in (B):** Finally, if it's not found anywhere else, it looks in Python's built-in functions and variables."
   ]
  },
  {
   "cell_type": "markdown",
   "id": "29b9ae0f-13c7-417b-9125-004e274cf285",
   "metadata": {},
   "source": [
    "Understanding scope helps you control where and how variables can be used, and prevents conflicts between variable names at different levels."
   ]
  },
  {
   "cell_type": "markdown",
   "id": "3f5d5115-2bea-47e0-aea0-3a507c570c98",
   "metadata": {},
   "source": [
    "***"
   ]
  },
  {
   "cell_type": "code",
   "execution_count": null,
   "id": "185b7552-1041-4854-8215-fd144e124797",
   "metadata": {},
   "outputs": [],
   "source": []
  }
 ],
 "metadata": {
  "kernelspec": {
   "display_name": "Python 3 (ipykernel)",
   "language": "python",
   "name": "python3"
  },
  "language_info": {
   "codemirror_mode": {
    "name": "ipython",
    "version": 3
   },
   "file_extension": ".py",
   "mimetype": "text/x-python",
   "name": "python",
   "nbconvert_exporter": "python",
   "pygments_lexer": "ipython3",
   "version": "3.12.7"
  }
 },
 "nbformat": 4,
 "nbformat_minor": 5
}
