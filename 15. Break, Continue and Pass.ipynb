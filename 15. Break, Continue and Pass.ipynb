{
 "cells": [
  {
   "cell_type": "markdown",
   "id": "e1fecfc5-2fd2-4ac5-8f97-5a9bd490bd10",
   "metadata": {},
   "source": [
    "### break, continue, and pass Statements in Python"
   ]
  },
  {
   "cell_type": "markdown",
   "id": "28cd81c8-af58-4a9d-a3ea-421e69ef258c",
   "metadata": {},
   "source": [
    "**In Python, the break, continue, and pass statements help control the flow of loops or handle scenarios where you want to temporarily skip code execution or terminate loops.**\n",
    "\n",
    "**These are especially useful when working with loops like for and while loops.**"
   ]
  },
  {
   "cell_type": "markdown",
   "id": "5c6f714e-0e1d-4468-bbf4-88f114f09b2d",
   "metadata": {},
   "source": [
    "**1. break Statement**\n",
    "\n",
    "The break statement is used to exit a loop immediately when a certain condition is met, even if the loop hasn't finished iterating over all items."
   ]
  },
  {
   "cell_type": "markdown",
   "id": "5756b230-d359-4995-ab7d-4f90a09b52e3",
   "metadata": {},
   "source": [
    "How break Works:  \n",
    "\n",
    "In a for or while loop, if the break statement is encountered, the loop stops, and the program moves to the code after the loop."
   ]
  },
  {
   "cell_type": "code",
   "execution_count": null,
   "id": "a81910ce-5f31-4016-943f-b34210d1984c",
   "metadata": {},
   "outputs": [],
   "source": [
    "for/while loop:\n",
    "    if condition:\n",
    "        break"
   ]
  },
  {
   "cell_type": "code",
   "execution_count": 1,
   "id": "5ccc2e6f-5a0f-4e78-9c7b-64d936b7a13d",
   "metadata": {},
   "outputs": [
    {
     "name": "stdout",
     "output_type": "stream",
     "text": [
      "1\n",
      "2\n",
      "3\n",
      "4\n"
     ]
    }
   ],
   "source": [
    "i = 1\n",
    "while i <= 10:\n",
    "    if i == 5:\n",
    "        break  # Loop stops when i equals 5\n",
    "    print(i)\n",
    "    i += 1"
   ]
  },
  {
   "cell_type": "markdown",
   "id": "e147d854-bd50-465a-a55f-699e42a842fb",
   "metadata": {},
   "source": [
    "**Using break in a for loop**"
   ]
  },
  {
   "cell_type": "code",
   "execution_count": 2,
   "id": "09895a10-74ef-44d5-a796-54e19ee5ec2f",
   "metadata": {},
   "outputs": [
    {
     "name": "stdout",
     "output_type": "stream",
     "text": [
      "h\n",
      "e\n"
     ]
    }
   ],
   "source": [
    "for char in \"hello\":\n",
    "    if char == 'l':\n",
    "        break  # Loop stops when 'l' is encountered\n",
    "    print(char)"
   ]
  },
  {
   "cell_type": "markdown",
   "id": "ca2e3d89-22fe-47d9-b3ac-589e86cbf2e3",
   "metadata": {},
   "source": [
    "**2. continue Statement**\n",
    "\n",
    "The continue statement is used to skip the current iteration of a loop and move to the next iteration. It does not stop the entire loop like break but simply skips over some part of the loop."
   ]
  },
  {
   "cell_type": "markdown",
   "id": "a2bf5ae5-b3f4-496b-a331-90c2d68bc074",
   "metadata": {},
   "source": [
    "How continue Works:\n",
    "\n",
    "When the continue statement is encountered, the remaining code inside the loop is skipped for that particular iteration, and the loop proceeds with the next iteration."
   ]
  },
  {
   "cell_type": "code",
   "execution_count": null,
   "id": "4f0e5d64-e3d7-4bf4-9e9d-b450d36f38d0",
   "metadata": {},
   "outputs": [],
   "source": [
    "for/while loop:\n",
    "    if condition:\n",
    "        continue"
   ]
  },
  {
   "cell_type": "code",
   "execution_count": 3,
   "id": "19c61bc2-cba9-4f15-826c-685474e45a4b",
   "metadata": {},
   "outputs": [
    {
     "name": "stdout",
     "output_type": "stream",
     "text": [
      "2\n",
      "4\n",
      "5\n",
      "6\n"
     ]
    }
   ],
   "source": [
    "i = 1\n",
    "while i <= 5:\n",
    "    i += 1\n",
    "    if i == 3:\n",
    "        continue  # Skips when i equals 3\n",
    "    print(i)"
   ]
  },
  {
   "cell_type": "code",
   "execution_count": 4,
   "id": "56969d2b-99ca-489b-8bfd-5a1d19004a73",
   "metadata": {},
   "outputs": [
    {
     "name": "stdout",
     "output_type": "stream",
     "text": [
      "1\n",
      "2\n",
      "4\n",
      "5\n"
     ]
    }
   ],
   "source": [
    "# Using continue in a for loop\n",
    "\n",
    "for number in range(1, 6):\n",
    "    if number == 3:\n",
    "        continue  # Skips printing 3\n",
    "    print(number)"
   ]
  },
  {
   "cell_type": "markdown",
   "id": "b521e8a1-2eef-4571-a1f0-671f73efcfb8",
   "metadata": {},
   "source": [
    "**3. pass Statement**"
   ]
  },
  {
   "cell_type": "markdown",
   "id": "f6de1a12-0d44-41c5-94b3-3c94d3f16ed3",
   "metadata": {},
   "source": [
    "The pass statement is a placeholder that does nothing when executed.  \n",
    "pass is a null statement in python. It instructs to “Do nothing”.\n",
    "\n",
    "\n",
    "It is used when you want to have a block of code syntactically necessary but don't want it to execute any action.   \n",
    "\n",
    "It is commonly used in places where code is yet to be written (i.e., while prototyping).\n",
    "\n",
    "How pass Works:\n",
    "\n",
    "pass allows you to handle scenarios where Python requires a statement (e.g., inside loops, functions, classes), but you do not want to perform any action for the time being."
   ]
  },
  {
   "cell_type": "code",
   "execution_count": null,
   "id": "0e0398f6-77f1-4ea2-a9d9-84ad83096bb6",
   "metadata": {},
   "outputs": [],
   "source": [
    "if condition:\n",
    "    pass  # Does nothing but allows the structure to exist"
   ]
  },
  {
   "cell_type": "code",
   "execution_count": 6,
   "id": "d3ce21ca-7b28-4e22-8c69-7e84c41bdaaf",
   "metadata": {},
   "outputs": [
    {
     "name": "stdout",
     "output_type": "stream",
     "text": [
      "0\n",
      "1\n",
      "2\n",
      "4\n"
     ]
    }
   ],
   "source": [
    "for i in range(5):\n",
    "    if i == 3:\n",
    "        pass  # Does nothing when i equals 3\n",
    "    else:\n",
    "        print(i)"
   ]
  },
  {
   "cell_type": "code",
   "execution_count": null,
   "id": "eaec9f2f-13d2-4344-ab57-826ad18d55be",
   "metadata": {},
   "outputs": [],
   "source": []
  },
  {
   "cell_type": "markdown",
   "id": "5169d894-cc0a-4db0-8e24-e997a5b5293f",
   "metadata": {},
   "source": [
    "#### When to Use **break, continue, and pass**\n",
    "\n",
    "break is used when you want to exit a loop immediately.  \n",
    "\n",
    "Use case: Searching for a value in a list and stopping once found.  \n",
    "\n",
    "continue is used when you want to skip certain iterations of a loop but keep looping.  \n",
    "\n",
    "Use case: Skipping over certain values while iterating through a list (e.g., ignoring specific items).  \n",
    "  \n",
    "pass is used when you need to do nothing in a certain part of your code but still maintain the structure.  \n",
    "\n",
    "Use case: Placeholder for future code inside functions, loops, or conditionals."
   ]
  },
  {
   "cell_type": "markdown",
   "id": "16f7ae12-9a29-4e67-b789-e58430b5a636",
   "metadata": {},
   "source": [
    "**Summary**\n",
    "\n",
    "**break:** Exits the loop entirely when a certain condition is met.   \n",
    "\n",
    "**continue:** Skips the current iteration and proceeds to the next.  \n",
    "\n",
    "**pass:** Does nothing; acts as a placeholder in code that is syntactically required but functionally unnecessary at the moment."
   ]
  },
  {
   "cell_type": "markdown",
   "id": "cb110636-4fdb-4143-aa3f-015dca9578bb",
   "metadata": {},
   "source": [
    "***"
   ]
  },
  {
   "cell_type": "code",
   "execution_count": null,
   "id": "8ab0f248-e628-4ce4-a8c3-0849be49ecf8",
   "metadata": {},
   "outputs": [],
   "source": []
  }
 ],
 "metadata": {
  "kernelspec": {
   "display_name": "Python 3 (ipykernel)",
   "language": "python",
   "name": "python3"
  },
  "language_info": {
   "codemirror_mode": {
    "name": "ipython",
    "version": 3
   },
   "file_extension": ".py",
   "mimetype": "text/x-python",
   "name": "python",
   "nbconvert_exporter": "python",
   "pygments_lexer": "ipython3",
   "version": "3.12.5"
  }
 },
 "nbformat": 4,
 "nbformat_minor": 5
}
