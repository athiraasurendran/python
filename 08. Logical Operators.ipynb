{
 "cells": [
  {
   "cell_type": "markdown",
   "id": "cac0568c-daa7-4f34-abe9-6d40c86885d9",
   "metadata": {},
   "source": [
    "## What are Logical Operators?\n",
    "\n",
    "Logical operators in Python are used to combine multiple conditional expressions or to invert a condition.  \n",
    "\n",
    "They are fundamental in controlling the flow of a program, especially in decision-making processes.  \n",
    "    \n",
    "The result of a logical operation is a Boolean value (True or False)."
   ]
  },
  {
   "cell_type": "markdown",
   "id": "704829c6-6735-481e-be30-e07f47d06869",
   "metadata": {},
   "source": [
    "### The Logical Operators in Python\n",
    "\n",
    "**Python provides three main logical operators:**\n",
    "\n",
    "a) **and** Operator\n",
    "\n",
    "\n",
    "The and operator returns True if both the conditions on either side of the operator are True.\n",
    "\n",
    "If one or both conditions are False, the result is False.  \n",
    "\n",
    "It's often used when you want multiple conditions to be met simultaneously."
   ]
  },
  {
   "cell_type": "code",
   "execution_count": 1,
   "id": "a059b0fd-1664-4d4a-b545-6001ba1b7753",
   "metadata": {},
   "outputs": [
    {
     "data": {
      "text/plain": [
       "True"
      ]
     },
     "execution_count": 1,
     "metadata": {},
     "output_type": "execute_result"
    }
   ],
   "source": [
    "1<2 and 2<3"
   ]
  },
  {
   "cell_type": "code",
   "execution_count": 2,
   "id": "b6cd781b-06ed-4658-87e5-c6d42ab0a2ed",
   "metadata": {},
   "outputs": [
    {
     "data": {
      "text/plain": [
       "False"
      ]
     },
     "execution_count": 2,
     "metadata": {},
     "output_type": "execute_result"
    }
   ],
   "source": [
    "1<2 and 3<3"
   ]
  },
  {
   "cell_type": "code",
   "execution_count": 4,
   "id": "febfe88d-6bc8-47f0-8878-da32ceddfd79",
   "metadata": {},
   "outputs": [
    {
     "data": {
      "text/plain": [
       "True"
      ]
     },
     "execution_count": 4,
     "metadata": {},
     "output_type": "execute_result"
    }
   ],
   "source": [
    "1<2 and 3==3"
   ]
  },
  {
   "cell_type": "markdown",
   "id": "30a7f2ca-1894-4208-bb83-075718af3760",
   "metadata": {},
   "source": [
    "b) **or** Operator\n",
    "\n",
    "\n",
    "The or operator returns True if at least one of the conditions on either side of the operator is True. \n",
    "\n",
    "If both conditions are False, the result is False.  \n",
    "\n",
    "This operator is useful when you want to ensure that at least one condition is met."
   ]
  },
  {
   "cell_type": "code",
   "execution_count": 5,
   "id": "baefe4e0-5d65-4368-9583-b2c05bfc965e",
   "metadata": {},
   "outputs": [
    {
     "data": {
      "text/plain": [
       "True"
      ]
     },
     "execution_count": 5,
     "metadata": {},
     "output_type": "execute_result"
    }
   ],
   "source": [
    "1==2 or 2<3"
   ]
  },
  {
   "cell_type": "code",
   "execution_count": 6,
   "id": "dfdf923d-15d1-4b68-a33c-879fe30422fe",
   "metadata": {},
   "outputs": [
    {
     "data": {
      "text/plain": [
       "False"
      ]
     },
     "execution_count": 6,
     "metadata": {},
     "output_type": "execute_result"
    }
   ],
   "source": [
    "1 == 2 or 2 == 3"
   ]
  },
  {
   "cell_type": "code",
   "execution_count": 8,
   "id": "b46a97bf-a8b5-4d6c-9ecf-3d39158fcb5b",
   "metadata": {},
   "outputs": [
    {
     "data": {
      "text/plain": [
       "True"
      ]
     },
     "execution_count": 8,
     "metadata": {},
     "output_type": "execute_result"
    }
   ],
   "source": [
    "10 > 5 or 7 < 6"
   ]
  },
  {
   "cell_type": "markdown",
   "id": "0939e24e-d9aa-4997-b67b-1cf5e6d59cff",
   "metadata": {},
   "source": [
    "c) **not** Operator\n",
    "\n",
    "The not operator inverts the value of the condition it precedes.  \n",
    "    \n",
    "If the condition is True, applying not makes it False, and if the condition is False, not makes it True.  \n",
    "\n",
    "It’s often used to check if a condition does not meet a certain criterion."
   ]
  },
  {
   "cell_type": "code",
   "execution_count": 14,
   "id": "518be584-2997-47e7-a534-833d4bed5695",
   "metadata": {},
   "outputs": [
    {
     "name": "stdout",
     "output_type": "stream",
     "text": [
      "False\n"
     ]
    }
   ],
   "source": [
    "a = True\n",
    "b = not a\n",
    "\n",
    "print(b) \n"
   ]
  },
  {
   "cell_type": "code",
   "execution_count": null,
   "id": "a54f6250-527c-4bd7-a2c3-e6aa23a83af4",
   "metadata": {},
   "outputs": [],
   "source": []
  },
  {
   "cell_type": "code",
   "execution_count": 11,
   "id": "67ebd86e-bb77-4e10-b620-ea28aff7e795",
   "metadata": {},
   "outputs": [
    {
     "name": "stdout",
     "output_type": "stream",
     "text": [
      "It's not raining, let's go outside!\n"
     ]
    }
   ],
   "source": [
    "raining = False\n",
    "\n",
    "if not raining:\n",
    "    print(\"It's not raining, let's go outside!\")\n",
    "else:\n",
    "    print(\"It's raining, better stay inside.\")\n"
   ]
  },
  {
   "cell_type": "code",
   "execution_count": 15,
   "id": "1ae63d88-3601-45bd-99d0-78be7dbbd3ff",
   "metadata": {},
   "outputs": [],
   "source": [
    "# Here, the program checks if it’s not raining. Since raining is False, not raining becomes True, and the program prints \"It's not raining, let's go outside!\""
   ]
  },
  {
   "cell_type": "code",
   "execution_count": null,
   "id": "b65371c2-7ec6-49f0-ae60-339bf86ced6f",
   "metadata": {},
   "outputs": [],
   "source": []
  }
 ],
 "metadata": {
  "kernelspec": {
   "display_name": "Python 3 (ipykernel)",
   "language": "python",
   "name": "python3"
  },
  "language_info": {
   "codemirror_mode": {
    "name": "ipython",
    "version": 3
   },
   "file_extension": ".py",
   "mimetype": "text/x-python",
   "name": "python",
   "nbconvert_exporter": "python",
   "pygments_lexer": "ipython3",
   "version": "3.10.0"
  }
 },
 "nbformat": 4,
 "nbformat_minor": 5
}
