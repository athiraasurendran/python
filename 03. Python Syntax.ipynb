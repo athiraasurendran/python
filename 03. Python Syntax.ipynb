{
 "cells": [
  {
   "cell_type": "markdown",
   "id": "1895ea10-fe6a-4e69-aa60-9e209e1fa295",
   "metadata": {},
   "source": [
    "## <span style=color:Purple;> Introduction to Python Syntax </span>"
   ]
  },
  {
   "cell_type": "markdown",
   "id": "35a11f3a-a894-4c77-837e-f99f0e4c46b8",
   "metadata": {},
   "source": [
    "Python syntax refers to the set of rules that defines how Python programs are written (including keywords, punctuations and other elements) and interpreted by the Python interpreter.\n",
    "\n",
    "These rules make sure that programs written in Python should be structured and formatted, ensuring that the Python interpreter can understand and execute them correctly.\n",
    "\n",
    "Python is designed to be easy to read and write, with a clear and concise syntax that emphasizes readability. This makes Python an excellent choice for beginners and professionals alike."
   ]
  },
  {
   "attachments": {
    "f2f8058c-359f-40d5-a50b-b08fbafb9795.png": {
     "image/png": "[encoded data removed]"
    }
   },
   "cell_type": "markdown",
   "id": "50bb1c4d-a273-47ce-8fec-215a7954a77a",
   "metadata": {},
   "source": [
    "![image.png](attachment:f2f8058c-359f-40d5-a50b-b08fbafb9795.png)"
   ]
  },
  {
   "cell_type": "markdown",
   "id": "288aa342-db2d-4bac-befe-e05def06ab95",
   "metadata": {},
   "source": [
    "### <span style=color:green;> Syntax Pillars in Python </span>"
   ]
  },
  {
   "cell_type": "markdown",
   "id": "318da740-d9fd-4dd9-bf63-f7a2f4823389",
   "metadata": {},
   "source": [
    "**Line Structure  \n",
    "Comments    \n",
    "Indentation  \n",
    "Keywords  \n",
    "Variables  \n",
    "Datatypes  \n",
    "Operators**"
   ]
  },
  {
   "cell_type": "code",
   "execution_count": null,
   "id": "8eeca4da-f6f4-49cb-895a-9ee10d1e9fc4",
   "metadata": {},
   "outputs": [],
   "source": []
  },
  {
   "cell_type": "markdown",
   "id": "18116138-fcad-43f8-b3b5-28ebbeb80635",
   "metadata": {},
   "source": [
    "#### Line Structure\n",
    "\n",
    "<u>Statement Termination: </u>\n",
    "\n",
    "Python uses newlines to terminate statements, unlike some other languages that use a semicolon (;)"
   ]
  },
  {
   "cell_type": "code",
   "execution_count": 4,
   "id": "d6121ea8-1951-49b5-a066-897db59b6dfa",
   "metadata": {},
   "outputs": [
    {
     "name": "stdout",
     "output_type": "stream",
     "text": [
      "15\n"
     ]
    }
   ],
   "source": [
    "x = 5\n",
    "y = 10\n",
    "print(x + y)\n"
   ]
  },
  {
   "cell_type": "markdown",
   "id": "c452b412-844c-482e-8ab1-16a6aae9b207",
   "metadata": {},
   "source": [
    "<u>Multiple Statements on a Single Line:</u>\n",
    "\n",
    "You can have multiple statements on a single line by separating them with semicolons (;), but it's generally discouraged for readability."
   ]
  },
  {
   "cell_type": "code",
   "execution_count": 5,
   "id": "531779a8-d4fe-414a-802e-b18496e4be30",
   "metadata": {},
   "outputs": [
    {
     "name": "stdout",
     "output_type": "stream",
     "text": [
      "15\n"
     ]
    }
   ],
   "source": [
    "x = 5; y = 10; print(x + y)"
   ]
  },
  {
   "cell_type": "markdown",
   "id": "1f1ff1df-75a8-4166-81a9-d955e34d3cb8",
   "metadata": {},
   "source": [
    "<u>Explicit Line Continuation:</u>\n",
    "\n",
    "You can also explicitly continue a line using a backslash (\\)."
   ]
  },
  {
   "cell_type": "code",
   "execution_count": 12,
   "id": "3d480591-a466-4fdb-9b1a-c879bb83a456",
   "metadata": {},
   "outputs": [
    {
     "ename": "SyntaxError",
     "evalue": "invalid syntax (4074112600.py, line 2)",
     "output_type": "error",
     "traceback": [
      "\u001b[1;36m  Cell \u001b[1;32mIn[12], line 2\u001b[1;36m\u001b[0m\n\u001b[1;33m    total = 1 + 2 + 3 +\u001b[0m\n\u001b[1;37m                       ^\u001b[0m\n\u001b[1;31mSyntaxError\u001b[0m\u001b[1;31m:\u001b[0m invalid syntax\n"
     ]
    }
   ],
   "source": [
    "# Error due to invalid syntax\n",
    "total = 1 + 2 + 3 +\n",
    "        4 + 5 + 6"
   ]
  },
  {
   "cell_type": "code",
   "execution_count": 15,
   "id": "99c5009a-1e40-4ee2-9d17-243a5352fd87",
   "metadata": {},
   "outputs": [],
   "source": [
    "# Error removed using \\\n",
    "total = 1 + 2 + 3 + \\\n",
    "        4 + 5 + 6"
   ]
  },
  {
   "cell_type": "code",
   "execution_count": 16,
   "id": "a5c48368-3b17-42fa-95d3-c491298051cb",
   "metadata": {},
   "outputs": [
    {
     "data": {
      "text/plain": [
       "21"
      ]
     },
     "execution_count": 16,
     "metadata": {},
     "output_type": "execute_result"
    }
   ],
   "source": [
    "total"
   ]
  },
  {
   "cell_type": "markdown",
   "id": "8c0f7b28-4bfe-45d3-b9b7-040eea9bd2da",
   "metadata": {},
   "source": [
    "#### Comments\n",
    "\n",
    "Comments in Python are the lines in the code that are ignored by the interpreter during the execution of the program.\n",
    "\n",
    "\n",
    "Just like any other language, comments in Python serve following purpose:\n",
    "\n",
    "Enhance code readability  \n",
    "Explaining code to other   \n",
    "Understanding code if studied after some time  \n",
    "Documenting the steps and needs for a function  \n",
    "Sharing code with fellow developers  \n",
    "Collaborating with multiple people  "
   ]
  },
  {
   "cell_type": "markdown",
   "id": "3067d72b-e545-46d2-bae8-4bdb4a78456b",
   "metadata": {},
   "source": [
    "<u>Single-line Comments:</u>\n",
    "\n",
    "Use the # symbol for single-line comments. Python ignores everything after # on that line."
   ]
  },
  {
   "cell_type": "code",
   "execution_count": 1,
   "id": "c1e7c455-5ac4-4f2e-8de4-b5c568600767",
   "metadata": {},
   "outputs": [],
   "source": [
    "# This is a single line commment"
   ]
  },
  {
   "cell_type": "code",
   "execution_count": 2,
   "id": "feb7bc46-2e19-4480-8441-120e8ae1024d",
   "metadata": {},
   "outputs": [],
   "source": [
    "# This is a comment\n",
    "x = 5  # This is also a comment"
   ]
  },
  {
   "cell_type": "markdown",
   "id": "3aa1f3e2-ea8b-490e-9cfe-b865809f397a",
   "metadata": {},
   "source": [
    "<u>Multi-line Comments:</u>\n",
    "\n",
    "Python doesn't have a native multi-line comment feature like /* */ in other languages. However, you can use a series of # for multiple lines."
   ]
  },
  {
   "cell_type": "code",
   "execution_count": 3,
   "id": "f3991736-8d08-4e39-8692-ed0f94640bfd",
   "metadata": {},
   "outputs": [],
   "source": [
    "# This is a comment\n",
    "# spanning multiple\n",
    "# lines\n"
   ]
  },
  {
   "cell_type": "markdown",
   "id": "224a033e-d36e-4bfa-b303-b192a2312a22",
   "metadata": {},
   "source": [
    "#### Indentation\n",
    "\n",
    "Indentation refers to the spaces at the beginning of a code line.\n",
    "\n",
    "Where in other programming languages the indentation in code is for readability only, the indentation in Python is very important.\n",
    "\n",
    "Python uses indentation to indicate a block of code."
   ]
  },
  {
   "cell_type": "markdown",
   "id": "f390888a-9864-45cf-9906-d99186c1c85c",
   "metadata": {},
   "source": [
    "Indentation is Mandatory:\n",
    "\n",
    "* Python uses indentation (whitespace at the beginning of a line) to define the scope of loops, functions, classes, etc., instead of using braces {}.\n",
    "* The standard is to use 4 spaces for each level of indentation.\n",
    "\n",
    "Consistency is Key:\n",
    "\n",
    "* Mixing tabs and spaces can cause errors. It's essential to use the same number of spaces or tabs consistently throughout your code."
   ]
  },
  {
   "cell_type": "code",
   "execution_count": 8,
   "id": "ff9786d9-44f5-4726-bd1b-857781724dd6",
   "metadata": {},
   "outputs": [
    {
     "name": "stdout",
     "output_type": "stream",
     "text": [
      "Positive\n"
     ]
    }
   ],
   "source": [
    "x = 2\n",
    "if x > 0:\n",
    "    print(\"Positive\")\n",
    "else:\n",
    "    print(\"Negative or Zero\")"
   ]
  },
  {
   "cell_type": "markdown",
   "id": "45811041-6506-4c26-886b-cc55d0cf3b3f",
   "metadata": {},
   "source": [
    "#### Keywords"
   ]
  },
  {
   "cell_type": "markdown",
   "id": "4be1967f-3bef-499a-b88c-12ecb5f46279",
   "metadata": {},
   "source": [
    "Keywords are reserved words in Python that have special meaning and cannot be used as variable names, function names, or any other identifier.\n",
    "\n",
    "Example of some keywords: **if, else, while, for, def, class, return, try, except, True, False, None**."
   ]
  },
  {
   "cell_type": "markdown",
   "id": "ef4c219b-20d7-4ca1-bd43-f69c11a96b79",
   "metadata": {},
   "source": [
    "#### Variables"
   ]
  },
  {
   "cell_type": "markdown",
   "id": "6e7bb142-141a-4bb5-8c41-a082c8f9c467",
   "metadata": {},
   "source": [
    "Variables are containers for storing data values."
   ]
  },
  {
   "cell_type": "markdown",
   "id": "05c1c214-e5cd-475c-9190-919989d09e58",
   "metadata": {},
   "source": [
    "Python has no command for declaring a variable.\n",
    "\n",
    "A variable is created the moment you first assign a value to it."
   ]
  },
  {
   "cell_type": "markdown",
   "id": "de98b036-c256-4c01-b578-341c39fb8fe6",
   "metadata": {},
   "source": [
    "* Use the equal sign (=) to assign a value to a variable. The value on the right is assigned to the variable on the left.\n"
   ]
  },
  {
   "cell_type": "code",
   "execution_count": 14,
   "id": "8f0ebe58-dc0a-4c98-ae78-82a559a25480",
   "metadata": {},
   "outputs": [],
   "source": [
    "#Example\n",
    "# Here the value/data 10 is assigned to the variable named \"x\" using \"=\" symbol which is called as an assignment operator\n",
    "\n",
    "x = 10"
   ]
  },
  {
   "cell_type": "code",
   "execution_count": 15,
   "id": "38d88802-27bd-45cb-85ae-bbd41976e1fa",
   "metadata": {},
   "outputs": [
    {
     "data": {
      "text/plain": [
       "10"
      ]
     },
     "execution_count": 15,
     "metadata": {},
     "output_type": "execute_result"
    }
   ],
   "source": [
    "x"
   ]
  },
  {
   "cell_type": "markdown",
   "id": "2ac46c09-efc1-4671-b886-0018d5eae2cd",
   "metadata": {},
   "source": [
    "#### <span style=color:red;> Important Rules for assigning variables in Python  </span>"
   ]
  },
  {
   "cell_type": "markdown",
   "id": "da6a5c26-9ca3-4ed7-a5b9-f799fa54c49a",
   "metadata": {},
   "source": [
    "* ***Start with a Letter or Underscore:***\n",
    "\n",
    "A variable name must begin with a letter (a-z, A-Z) or an underscore (_), but it **cannot start with a digit**.\n"
   ]
  },
  {
   "cell_type": "code",
   "execution_count": 16,
   "id": "ac9e7f55-6cc7-46fc-a42b-3a7dd4549ccd",
   "metadata": {},
   "outputs": [],
   "source": [
    "my_var = 10\n",
    "_var = 20"
   ]
  },
  {
   "cell_type": "markdown",
   "id": "862424b7-c74d-459d-b841-a001c4652f78",
   "metadata": {},
   "source": [
    "* ***Case Sensitivity:***\n",
    "\n",
    "Variable names are case-sensitive. For example, myVar, MyVar, and myvar are all considered different variables."
   ]
  },
  {
   "cell_type": "code",
   "execution_count": 18,
   "id": "d015c0d0-b386-4d8d-b2c5-ee566e9b6a6e",
   "metadata": {},
   "outputs": [],
   "source": [
    "myVar = 10\n",
    "MyVar = 5\n",
    "myvar = 20"
   ]
  },
  {
   "cell_type": "code",
   "execution_count": 19,
   "id": "a64113d7-9c2b-4bed-b82d-20a5e0475baf",
   "metadata": {},
   "outputs": [
    {
     "name": "stdout",
     "output_type": "stream",
     "text": [
      "10\n",
      "5\n",
      "20\n"
     ]
    }
   ],
   "source": [
    "print(myVar)\n",
    "print(MyVar)\n",
    "print(myvar)"
   ]
  },
  {
   "cell_type": "markdown",
   "id": "e0c9faab-605a-453b-a987-64c311101c43",
   "metadata": {},
   "source": [
    "* ***No Spaces:***\n",
    "\n",
    "Variable names cannot contain spaces. Use underscores (_) to separate words if needed."
   ]
  },
  {
   "cell_type": "code",
   "execution_count": 23,
   "id": "5af8c21a-5b3c-4a6b-9175-d8dab09efcd7",
   "metadata": {},
   "outputs": [
    {
     "ename": "SyntaxError",
     "evalue": "invalid syntax (3716111900.py, line 2)",
     "output_type": "error",
     "traceback": [
      "\u001b[1;36m  Cell \u001b[1;32mIn[23], line 2\u001b[1;36m\u001b[0m\n\u001b[1;33m    var name = 10\u001b[0m\n\u001b[1;37m        ^\u001b[0m\n\u001b[1;31mSyntaxError\u001b[0m\u001b[1;31m:\u001b[0m invalid syntax\n"
     ]
    }
   ],
   "source": [
    "# error due to space\n",
    "var name = 10"
   ]
  },
  {
   "cell_type": "code",
   "execution_count": 24,
   "id": "a41ac786-f051-4510-9852-7a1a0e4a826f",
   "metadata": {},
   "outputs": [],
   "source": [
    "# error resolved\n",
    "var_name = 10"
   ]
  },
  {
   "cell_type": "code",
   "execution_count": 25,
   "id": "c181b0e2-1f96-4200-b247-5d45e3e5a788",
   "metadata": {},
   "outputs": [
    {
     "data": {
      "text/plain": [
       "10"
      ]
     },
     "execution_count": 25,
     "metadata": {},
     "output_type": "execute_result"
    }
   ],
   "source": [
    "var_name"
   ]
  },
  {
   "cell_type": "markdown",
   "id": "9ff749ab-947c-484c-9b57-f9923602a814",
   "metadata": {},
   "source": [
    "* ***Avoid Python Keywords:***\n",
    "\n",
    "Do not use Python keywords or built-in function names as variable names (e.g., if, else, for, print)."
   ]
  },
  {
   "cell_type": "code",
   "execution_count": 26,
   "id": "3d47861f-d0a2-433b-ad32-4b052da3c11d",
   "metadata": {},
   "outputs": [],
   "source": [
    "print = 10"
   ]
  },
  {
   "cell_type": "code",
   "execution_count": 27,
   "id": "f72607a3-c70b-42c4-ba6a-3ba031cd9da0",
   "metadata": {},
   "outputs": [
    {
     "data": {
      "text/plain": [
       "10"
      ]
     },
     "execution_count": 27,
     "metadata": {},
     "output_type": "execute_result"
    }
   ],
   "source": [
    "print"
   ]
  },
  {
   "cell_type": "code",
   "execution_count": 28,
   "id": "e3d865f2-b103-450d-a298-ef98c2245627",
   "metadata": {},
   "outputs": [
    {
     "ename": "TypeError",
     "evalue": "'int' object is not callable",
     "output_type": "error",
     "traceback": [
      "\u001b[1;31m---------------------------------------------------------------------------\u001b[0m",
      "\u001b[1;31mTypeError\u001b[0m                                 Traceback (most recent call last)",
      "Cell \u001b[1;32mIn[28], line 1\u001b[0m\n\u001b[1;32m----> 1\u001b[0m \u001b[38;5;28mprint\u001b[39m(\u001b[38;5;124m'\u001b[39m\u001b[38;5;124mhello\u001b[39m\u001b[38;5;124m'\u001b[39m)\n",
      "\u001b[1;31mTypeError\u001b[0m: 'int' object is not callable"
     ]
    }
   ],
   "source": [
    "print('hello')"
   ]
  },
  {
   "cell_type": "code",
   "execution_count": null,
   "id": "0033da2e-4751-4675-b32f-5362814cd861",
   "metadata": {},
   "outputs": [],
   "source": []
  },
  {
   "cell_type": "code",
   "execution_count": 29,
   "id": "0daf25ce-fa07-45c0-9882-bc3e3f748703",
   "metadata": {},
   "outputs": [],
   "source": [
    "# Here the inbuilt method \"print\" became a variable and lost its functionality, which led to an error\n",
    "\n",
    "\n",
    "# (If you exectued that cell, please restart the notebook using the restart symbol in the top of the notebook)\n"
   ]
  },
  {
   "cell_type": "markdown",
   "id": "f438a23d-ca0d-4b95-bf7f-364d45491f3e",
   "metadata": {},
   "source": [
    "* ***Characters:***\n",
    "\n",
    "Variable names can only contain letters, numbers, and underscores. **Special characters like @, #, %, etc., are not allowed.**\n",
    "\n",
    "Example: my_var = 50 is valid, but my@var = 50 is not. "
   ]
  },
  {
   "cell_type": "code",
   "execution_count": 1,
   "id": "63f92286-b146-44ec-936f-2f0e99635842",
   "metadata": {},
   "outputs": [
    {
     "data": {
      "text/plain": [
       "50"
      ]
     },
     "execution_count": 1,
     "metadata": {},
     "output_type": "execute_result"
    }
   ],
   "source": [
    "my_var = 50\n",
    "my_var"
   ]
  },
  {
   "cell_type": "code",
   "execution_count": 2,
   "id": "009fb847-0f65-4520-869b-fd3cac3ab01d",
   "metadata": {},
   "outputs": [
    {
     "ename": "SyntaxError",
     "evalue": "cannot assign to expression here. Maybe you meant '==' instead of '='? (2798466418.py, line 1)",
     "output_type": "error",
     "traceback": [
      "\u001b[1;36m  Cell \u001b[1;32mIn[2], line 1\u001b[1;36m\u001b[0m\n\u001b[1;33m    my@var = 10\u001b[0m\n\u001b[1;37m    ^\u001b[0m\n\u001b[1;31mSyntaxError\u001b[0m\u001b[1;31m:\u001b[0m cannot assign to expression here. Maybe you meant '==' instead of '='?\n"
     ]
    }
   ],
   "source": [
    "my@var = 10"
   ]
  },
  {
   "cell_type": "markdown",
   "id": "d4bbfcd2-5b41-4d00-b991-dcc1a77aa03e",
   "metadata": {},
   "source": [
    "***"
   ]
  },
  {
   "cell_type": "markdown",
   "id": "f6cdbdae-509a-4c7e-9854-93c8d40c3498",
   "metadata": {},
   "source": [
    "*Use Descriptive Names:*\n",
    "\n",
    "Choose variable names that are descriptive and reflect the purpose of the variable.  \n",
    "This improves code readability.  \n",
    "Example: total_price = 100, user_age = 25\n",
    "\n",
    "*Dynamic Typing:*\n",
    "\n",
    "Python allows variables to change types.  \n",
    "You can assign a variable to one type and later reassign it to another.\n",
    "Example:\n",
    "\n",
    "x = 5         (x is an integer)  \n",
    "x = \"Hello\"   (Now x is a string)\n",
    "\n",
    "*Chained Assignment:*\n",
    "\n",
    "You can assign the same value to multiple variables in a single statement.  \n",
    "Example: a = b = c = 100  \n",
    "\n",
    "\n",
    "*Type Consistency:*\n",
    "\n",
    "Although Python is dynamically typed, it’s good practice to keep a variable’s type consistent to avoid confusion.  \n",
    "Example: If x starts as a string, avoid changing it to an integer unless necessary.  \n",
    "\n",
    "\n",
    "Following these rules will help you write clear and error-free Python code when assigning variables.\n"
   ]
  },
  {
   "cell_type": "markdown",
   "id": "1209cd34-7ee3-41af-8bc5-671a965d8e40",
   "metadata": {},
   "source": [
    "***"
   ]
  },
  {
   "cell_type": "code",
   "execution_count": null,
   "id": "c4803fcf-65bc-4e41-b4b4-37fa2fe9d025",
   "metadata": {},
   "outputs": [],
   "source": []
  }
 ],
 "metadata": {
  "kernelspec": {
   "display_name": "Python 3 (ipykernel)",
   "language": "python",
   "name": "python3"
  },
  "language_info": {
   "codemirror_mode": {
    "name": "ipython",
    "version": 3
   },
   "file_extension": ".py",
   "mimetype": "text/x-python",
   "name": "python",
   "nbconvert_exporter": "python",
   "pygments_lexer": "ipython3",
   "version": "3.10.0"
  }
 },
 "nbformat": 4,
 "nbformat_minor": 5
}
